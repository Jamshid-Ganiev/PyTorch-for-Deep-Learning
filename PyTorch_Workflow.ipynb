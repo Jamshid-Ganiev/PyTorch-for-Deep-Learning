{
 "cells": [
  {
   "cell_type": "code",
   "execution_count": 1,
   "id": "deda65a8-ca7d-4dc8-b6d0-e63c8d967ff4",
   "metadata": {},
   "outputs": [
    {
     "data": {
      "text/plain": [
       "'2.2.0+cu121'"
      ]
     },
     "execution_count": 1,
     "metadata": {},
     "output_type": "execute_result"
    }
   ],
   "source": [
    "import torch\n",
    "from torch import nn\n",
    "import matplotlib.pyplot as plt\n",
    "import numpy as np\n",
    "\n",
    "# Check PyTorch version ('2.2.0+cu121')\n",
    "torch.__version__"
   ]
  },
  {
   "cell_type": "markdown",
   "id": "70fe41fc-c132-4886-a79a-31c264b0afb8",
   "metadata": {},
   "source": [
    "Machine learning is a game of 2 parts:\n",
    "1. Get data into  a numerical representation.\n",
    "2. Build a model to learn patterns in that numerical representation"
   ]
  },
  {
   "cell_type": "code",
   "execution_count": 2,
   "id": "f066b3b5-57d5-46f4-8666-828c2fdd3f0d",
   "metadata": {},
   "outputs": [],
   "source": [
    "# Linear regression line equation: { Y = a + bX }\n",
    "# create *known* parameters\n",
    "weight = 0.7\n",
    "bias = 0.3\n",
    "\n",
    "# Create \n",
    "start = 0\n",
    "end = 1\n",
    "step = 0.02\n",
    "X = torch.arange(start, end, step).unsqueeze(dim=1) # adds extra dimension\n",
    "y = weight * X + bias"
   ]
  },
  {
   "cell_type": "code",
   "execution_count": 3,
   "id": "07832a35-fed7-4534-a055-37429add3178",
   "metadata": {},
   "outputs": [
    {
     "data": {
      "text/plain": [
       "(tensor([[0.0000],\n",
       "         [0.0200],\n",
       "         [0.0400],\n",
       "         [0.0600],\n",
       "         [0.0800],\n",
       "         [0.1000],\n",
       "         [0.1200],\n",
       "         [0.1400],\n",
       "         [0.1600],\n",
       "         [0.1800]]),\n",
       " 50)"
      ]
     },
     "execution_count": 3,
     "metadata": {},
     "output_type": "execute_result"
    }
   ],
   "source": [
    "X[:10], len(X)"
   ]
  },
  {
   "cell_type": "code",
   "execution_count": 4,
   "id": "2415cb5c-9929-4a1c-8a96-a008d4f451a1",
   "metadata": {},
   "outputs": [
    {
     "data": {
      "text/plain": [
       "(tensor([[0.3000],\n",
       "         [0.3140],\n",
       "         [0.3280],\n",
       "         [0.3420],\n",
       "         [0.3560],\n",
       "         [0.3700],\n",
       "         [0.3840],\n",
       "         [0.3980],\n",
       "         [0.4120],\n",
       "         [0.4260]]),\n",
       " 50)"
      ]
     },
     "execution_count": 4,
     "metadata": {},
     "output_type": "execute_result"
    }
   ],
   "source": [
    "y[:10], len(y)"
   ]
  },
  {
   "cell_type": "markdown",
   "id": "8454965b-6e8c-4455-9c17-9e4f8aed489f",
   "metadata": {},
   "source": [
    "## Splitting data into training and test sets."
   ]
  },
  {
   "cell_type": "code",
   "execution_count": 5,
   "id": "0888578c-2bc9-44ad-823a-c1a1c6128565",
   "metadata": {},
   "outputs": [
    {
     "data": {
      "text/plain": [
       "(40, 40, 10, 10)"
      ]
     },
     "execution_count": 5,
     "metadata": {},
     "output_type": "execute_result"
    }
   ],
   "source": [
    "# Create a train / test split\n",
    "train_split = int(0.8 * len(X))\n",
    "X_train, y_train = X[:train_split], y[:train_split]\n",
    "X_test, y_test = X[train_split:], y[train_split:]\n",
    "\n",
    "len(X_train), len(y_train), len(X_test), len(y_test)"
   ]
  },
  {
   "cell_type": "code",
   "execution_count": 6,
   "id": "d0df60df-f179-4c08-9b6e-bf07fc6c739d",
   "metadata": {},
   "outputs": [],
   "source": [
    "# Visualization\n",
    "def plot_predictions(train_data=X_train,\n",
    "                     train_labels=y_train,\n",
    "                     test_data=X_test,\n",
    "                     test_labels=y_test,\n",
    "                     predictions=None):\n",
    "    \"\"\"\n",
    "    Plots training data, test data and compares predictions.\n",
    "    \"\"\"\n",
    "    plt.figure(figsize=(10, 7))\n",
    "\n",
    "    # Plot training data in blue\n",
    "    plt.scatter(train_data, train_labels, c=\"b\", s=4, label='Training Data')\n",
    "\n",
    "    # plot test data in green\n",
    "    plt.scatter(test_data, test_labels, c=\"g\", s=4, label=\"Testing data\")\n",
    "\n",
    "    # Are there predictions?\n",
    "    if predictions is not None:\n",
    "        plt.scatter(test_data, predictions, c=\"r\", s=4, label=\"Predictions\")\n",
    "\n",
    "    # show the legend\n",
    "    plt.legend(prop={\"size\": 14});\n",
    "    "
   ]
  },
  {
   "cell_type": "code",
   "execution_count": 7,
   "id": "7e388924-f325-4741-93f7-37976196c20b",
   "metadata": {},
   "outputs": [
    {
     "data": {
      "image/png": "[encoded data removed]",
      "text/plain": [
       "<Figure size 1000x700 with 1 Axes>"
      ]
     },
     "metadata": {},
     "output_type": "display_data"
    }
   ],
   "source": [
    "plot_predictions()"
   ]
  },
  {
   "cell_type": "markdown",
   "id": "cf931aa4-8b33-40bd-a7b3-e3793e84d318",
   "metadata": {},
   "source": [
    "# Build Model"
   ]
  },
  {
   "cell_type": "code",
   "execution_count": 8,
   "id": "989bce12-d0b5-4bf3-9df7-c2e9a0278c94",
   "metadata": {},
   "outputs": [],
   "source": [
    "# create linear regression model class\n",
    "## nn.Module-->base class for all neural network modules\n",
    "class LinearRegressionModel(nn.Module):\n",
    "    def __init__(self):\n",
    "        super().__init__()\n",
    "\n",
    "        # Initialize model parameters\n",
    "        self.weights = nn.Parameter(torch.randn(1,\n",
    "                                                requires_grad=True,\n",
    "                                                dtype=torch.float))\n",
    "        self.bias = nn.Parameter(torch.randn(1,\n",
    "                                            requires_grad=True,\n",
    "                                            dtype=torch.float))\n",
    "    # Forward method to define the computation in the model\n",
    "    def forward(self, x: torch.Tensor) -> torch.Tensor: # <- \"x\" is the input data\n",
    "        return self.weights * x + self.bias # this is the linear regression formula"
   ]
  },
  {
   "cell_type": "code",
   "execution_count": 9,
   "id": "6934f638-d978-4a04-8453-17e60d7ed0ba",
   "metadata": {},
   "outputs": [],
   "source": [
    "# create a random seed\n",
    "torch.manual_seed(42)\n",
    "\n",
    "# Create an instance of the model (this is a subclass of nn.Module)\n",
    "model_0 = LinearRegressionModel()"
   ]
  },
  {
   "cell_type": "code",
   "execution_count": 10,
   "id": "fa4ca946-9f4b-4d1c-aabb-776cbcfc1b89",
   "metadata": {},
   "outputs": [
    {
     "data": {
      "text/plain": [
       "[Parameter containing:\n",
       " tensor([0.3367], requires_grad=True),\n",
       " Parameter containing:\n",
       " tensor([0.1288], requires_grad=True)]"
      ]
     },
     "execution_count": 10,
     "metadata": {},
     "output_type": "execute_result"
    }
   ],
   "source": [
    "list(model_0.parameters())"
   ]
  },
  {
   "cell_type": "code",
   "execution_count": 11,
   "id": "67b4e03e-617a-44f4-b10a-27cb2d055d35",
   "metadata": {},
   "outputs": [
    {
     "data": {
      "text/plain": [
       "OrderedDict([('weights', tensor([0.3367])), ('bias', tensor([0.1288]))])"
      ]
     },
     "execution_count": 11,
     "metadata": {},
     "output_type": "execute_result"
    }
   ],
   "source": [
    "# List named params\n",
    "model_0.state_dict()"
   ]
  },
  {
   "cell_type": "code",
   "execution_count": null,
   "id": "bf389218-0324-4cff-af0c-b2cf1232467c",
   "metadata": {},
   "outputs": [],
   "source": []
  },
  {
   "cell_type": "code",
   "execution_count": 12,
   "id": "0e143c61-7482-42a4-a3b5-5073679fd770",
   "metadata": {},
   "outputs": [
    {
     "data": {
      "text/plain": [
       "tensor([[0.3982],\n",
       "        [0.4049],\n",
       "        [0.4116],\n",
       "        [0.4184],\n",
       "        [0.4251],\n",
       "        [0.4318],\n",
       "        [0.4386],\n",
       "        [0.4453],\n",
       "        [0.4520],\n",
       "        [0.4588]])"
      ]
     },
     "execution_count": 12,
     "metadata": {},
     "output_type": "execute_result"
    }
   ],
   "source": [
    "# Make predictions with model\n",
    "with torch.inference_mode():\n",
    "    y_preds = model_0(X_test)\n",
    "y_preds"
   ]
  },
  {
   "cell_type": "code",
   "execution_count": null,
   "id": "35f6a106-1c57-462f-9776-b05c89cd72be",
   "metadata": {},
   "outputs": [],
   "source": []
  },
  {
   "cell_type": "code",
   "execution_count": 13,
   "id": "4e9b6bf4-6a58-4749-8516-66e77cbcc112",
   "metadata": {},
   "outputs": [],
   "source": [
    "# Setup a loss function\n",
    "loss_fn = nn.L1Loss()\n",
    "\n",
    "# Setup an optimizer\n",
    "optimizer = torch.optim.SGD(params=model_0.parameters(),\n",
    "                            lr=0.01) # learning rate = possibly the most important hyperparameter we can set.\n",
    "                                                    "
   ]
  },
  {
   "cell_type": "code",
   "execution_count": 14,
   "id": "cd27192e-d909-4c97-81de-505d34f7f126",
   "metadata": {},
   "outputs": [
    {
     "data": {
      "text/plain": [
       "SGD (\n",
       "Parameter Group 0\n",
       "    dampening: 0\n",
       "    differentiable: False\n",
       "    foreach: None\n",
       "    lr: 0.01\n",
       "    maximize: False\n",
       "    momentum: 0\n",
       "    nesterov: False\n",
       "    weight_decay: 0\n",
       ")"
      ]
     },
     "execution_count": 14,
     "metadata": {},
     "output_type": "execute_result"
    }
   ],
   "source": [
    "optimizer"
   ]
  },
  {
   "cell_type": "code",
   "execution_count": 15,
   "id": "31401168-d67d-415b-986d-04c76b16f568",
   "metadata": {},
   "outputs": [
    {
     "name": "stdout",
     "output_type": "stream",
     "text": [
      "Epoch: 0 | Loss: 0.31288138031959534 | Test loss: 0.48106518387794495\n",
      "OrderedDict({'weights': tensor([0.3406]), 'bias': tensor([0.1388])})\n",
      "====================================================================================================\n",
      "Epoch: 10 | Loss: 0.1976713240146637 | Test loss: 0.3463551998138428\n",
      "OrderedDict({'weights': tensor([0.3796]), 'bias': tensor([0.2388])})\n",
      "====================================================================================================\n",
      "Epoch: 20 | Loss: 0.08908725529909134 | Test loss: 0.21729660034179688\n",
      "OrderedDict({'weights': tensor([0.4184]), 'bias': tensor([0.3333])})\n",
      "====================================================================================================\n",
      "Epoch: 30 | Loss: 0.053148526698350906 | Test loss: 0.14464017748832703\n",
      "OrderedDict({'weights': tensor([0.4512]), 'bias': tensor([0.3768])})\n",
      "====================================================================================================\n",
      "Epoch: 40 | Loss: 0.04543796554207802 | Test loss: 0.11360953003168106\n",
      "OrderedDict({'weights': tensor([0.4748]), 'bias': tensor([0.3868])})\n",
      "====================================================================================================\n",
      "Epoch: 50 | Loss: 0.04167863354086876 | Test loss: 0.09919948130846024\n",
      "OrderedDict({'weights': tensor([0.4938]), 'bias': tensor([0.3843])})\n",
      "====================================================================================================\n",
      "Epoch: 60 | Loss: 0.03818932920694351 | Test loss: 0.08886633068323135\n",
      "OrderedDict({'weights': tensor([0.5116]), 'bias': tensor([0.3788])})\n",
      "====================================================================================================\n",
      "Epoch: 70 | Loss: 0.03476089984178543 | Test loss: 0.0805937647819519\n",
      "OrderedDict({'weights': tensor([0.5288]), 'bias': tensor([0.3718])})\n",
      "====================================================================================================\n",
      "Epoch: 80 | Loss: 0.03132382780313492 | Test loss: 0.07232122868299484\n",
      "OrderedDict({'weights': tensor([0.5459]), 'bias': tensor([0.3648])})\n",
      "====================================================================================================\n",
      "Epoch: 90 | Loss: 0.02788739837706089 | Test loss: 0.06473556160926819\n",
      "OrderedDict({'weights': tensor([0.5629]), 'bias': tensor([0.3573])})\n",
      "====================================================================================================\n",
      "Epoch: 100 | Loss: 0.024458957836031914 | Test loss: 0.05646304413676262\n",
      "OrderedDict({'weights': tensor([0.5800]), 'bias': tensor([0.3503])})\n",
      "====================================================================================================\n",
      "Epoch: 110 | Loss: 0.021020207554101944 | Test loss: 0.04819049686193466\n",
      "OrderedDict({'weights': tensor([0.5972]), 'bias': tensor([0.3433])})\n",
      "====================================================================================================\n",
      "Epoch: 120 | Loss: 0.01758546568453312 | Test loss: 0.04060482233762741\n",
      "OrderedDict({'weights': tensor([0.6141]), 'bias': tensor([0.3358])})\n",
      "====================================================================================================\n",
      "Epoch: 130 | Loss: 0.014155393466353416 | Test loss: 0.03233227878808975\n",
      "OrderedDict({'weights': tensor([0.6313]), 'bias': tensor([0.3288])})\n",
      "====================================================================================================\n",
      "Epoch: 140 | Loss: 0.010716589167714119 | Test loss: 0.024059748277068138\n",
      "OrderedDict({'weights': tensor([0.6485]), 'bias': tensor([0.3218])})\n",
      "====================================================================================================\n",
      "Epoch: 150 | Loss: 0.0072835334576666355 | Test loss: 0.016474086791276932\n",
      "OrderedDict({'weights': tensor([0.6654]), 'bias': tensor([0.3143])})\n",
      "====================================================================================================\n",
      "Epoch: 160 | Loss: 0.0038517764769494534 | Test loss: 0.008201557211577892\n",
      "OrderedDict({'weights': tensor([0.6826]), 'bias': tensor([0.3073])})\n",
      "====================================================================================================\n",
      "Epoch: 170 | Loss: 0.008932482451200485 | Test loss: 0.005023092031478882\n",
      "OrderedDict({'weights': tensor([0.6951]), 'bias': tensor([0.2993])})\n",
      "====================================================================================================\n",
      "Epoch: 180 | Loss: 0.008932482451200485 | Test loss: 0.005023092031478882\n",
      "OrderedDict({'weights': tensor([0.6951]), 'bias': tensor([0.2993])})\n",
      "====================================================================================================\n",
      "Epoch: 190 | Loss: 0.008932482451200485 | Test loss: 0.005023092031478882\n",
      "OrderedDict({'weights': tensor([0.6951]), 'bias': tensor([0.2993])})\n",
      "====================================================================================================\n"
     ]
    }
   ],
   "source": [
    "torch.manual_seed(42)\n",
    "\n",
    "# Train\n",
    "epochs = 200\n",
    "epoch_count = []\n",
    "loss_values = []\n",
    "test_loss_values = []\n",
    "\n",
    "### Training\n",
    "for epoch in range(epochs):\n",
    "    # Set the model training mode\n",
    "    model_0.train()\n",
    "\n",
    "    # 1. Forward pass/Propagation\n",
    "    y_pred = model_0(X_train)\n",
    "\n",
    "    # 2. Calculate the loss\n",
    "    loss = loss_fn(y_pred, y_train)\n",
    "\n",
    "    # 3. Optimizer zero grad\n",
    "    optimizer.zero_grad()\n",
    "\n",
    "    # 4. Perform backpropogation on the loss with respect to the parameters of the model\n",
    "    loss.backward()\n",
    "\n",
    "    # 5. Step the optimizer (perform gradient descent)\n",
    "    optimizer.step()\n",
    "\n",
    "\n",
    "    ### Testing\n",
    "    model_0.eval() # turns off different settings in the model not needed for evaluation/testing (dropout/batch norm layers)\n",
    "    with torch.inference_mode(): # turns off gradient tracking & a couple more things behind the scences.\n",
    "    # with torch.no_grad(): # we may also see torch.no_grad() in older PyTOrch code\n",
    "        # 1. Do the forward pass\n",
    "        test_pred = model_0(X_test)\n",
    "\n",
    "        # 2. Calculate the loss\n",
    "        test_loss = loss_fn(test_pred, y_test)\n",
    "    \n",
    "    # Print out what is happenin'\n",
    "    if epoch % 10 == 0:\n",
    "        epoch_count.append(epoch)\n",
    "        loss_values.append(loss)\n",
    "        test_loss_values.append(test_loss)\n",
    "        print(f\"Epoch: {epoch} | Loss: {loss} | Test loss: {test_loss}\")\n",
    "\n",
    "        # Print out model state_dict()\n",
    "        print(model_0.state_dict())\n",
    "\n",
    "        print(\"=\" * 100)"
   ]
  },
  {
   "cell_type": "code",
   "execution_count": 16,
   "id": "fb1fe728-8498-41bb-b096-56d8d29e37e5",
   "metadata": {},
   "outputs": [
    {
     "data": {
      "text/plain": [
       "tensor([[0.8685],\n",
       "        [0.8825],\n",
       "        [0.8965],\n",
       "        [0.9105],\n",
       "        [0.9245],\n",
       "        [0.9384],\n",
       "        [0.9524],\n",
       "        [0.9664],\n",
       "        [0.9804],\n",
       "        [0.9944]])"
      ]
     },
     "execution_count": 16,
     "metadata": {},
     "output_type": "execute_result"
    }
   ],
   "source": [
    "with torch.inference_mode():\n",
    "    y_preds_new = model_0(X_test)\n",
    "y_preds_new"
   ]
  },
  {
   "cell_type": "code",
   "execution_count": 17,
   "id": "023a77cb-435c-430e-9eeb-f700979bec30",
   "metadata": {},
   "outputs": [
    {
     "data": {
      "image/png": "[encoded data removed]",
      "text/plain": [
       "<Figure size 1000x700 with 1 Axes>"
      ]
     },
     "metadata": {},
     "output_type": "display_data"
    }
   ],
   "source": [
    "plot_predictions(predictions=y_preds_new)"
   ]
  },
  {
   "cell_type": "code",
   "execution_count": 18,
   "id": "eb6077fb-03c2-4065-b81e-346ec7336a6f",
   "metadata": {},
   "outputs": [
    {
     "data": {
      "image/png": "[encoded data removed]",
      "text/plain": [
       "<Figure size 1000x700 with 1 Axes>"
      ]
     },
     "metadata": {},
     "output_type": "display_data"
    }
   ],
   "source": [
    "plot_predictions(predictions=y_preds)"
   ]
  },
  {
   "cell_type": "code",
   "execution_count": 19,
   "id": "e3d54bc3-a26f-493e-abc9-8b35cbd21ead",
   "metadata": {},
   "outputs": [
    {
     "data": {
      "image/png": "[encoded data removed]",
      "text/plain": [
       "<Figure size 640x480 with 1 Axes>"
      ]
     },
     "metadata": {},
     "output_type": "display_data"
    }
   ],
   "source": [
    "# Plot the loss curves\n",
    "plt.plot(epoch_count, np.array(torch.tensor(loss_values).numpy()), label=\"Train loss\")\n",
    "plt.plot(epoch_count, test_loss_values, label='Test loss')\n",
    "plt.title('Training and test loss curves')\n",
    "plt.ylabel(\"Loss\")\n",
    "plt.xlabel(\"Epochs\")\n",
    "plt.legend();"
   ]
  },
  {
   "cell_type": "code",
   "execution_count": null,
   "id": "94c0449d-a492-4bf4-b4b3-8c8970fa76e5",
   "metadata": {},
   "outputs": [],
   "source": []
  },
  {
   "cell_type": "markdown",
   "id": "bb906f2d-299c-469b-b502-9369392728e0",
   "metadata": {},
   "source": [
    "# Saving a model in PyTorch\n",
    "There are three main methods of saving and loading models in PyTorch\n",
    "\n",
    "1. `torch.save()` - allows us save a PyTorch object in Python's pickle format\n",
    "2. `torch.load()` - allows us load a saved PyTorch object\n",
    "3. `torch.nn.Module.load_state_dict()` - this allows to load a model's saved state dictionary\n"
   ]
  },
  {
   "cell_type": "code",
   "execution_count": 27,
   "id": "38332b1f-b501-471f-aa13-f27815b729fc",
   "metadata": {},
   "outputs": [
    {
     "name": "stdout",
     "output_type": "stream",
     "text": [
      "Saved model to: models\\01_pytorch_workflow_model_0.pth\n"
     ]
    }
   ],
   "source": [
    "from pathlib import Path\n",
    "\n",
    "# 1. Create models directory\n",
    "MODEL_PATH = Path(\"models\")\n",
    "MODEL_PATH.mkdir(parents=True, exist_ok=True)\n",
    "\n",
    "# 2. Create model save path\n",
    "MODEL_NAME = \"01_pytorch_workflow_model_0.pth\"\n",
    "MODEL_SAVE_PATH = MODEL_PATH / MODEL_NAME\n",
    "\n",
    "# 3. Save the model state dict\n",
    "print(f\"Saved model to: {MODEL_SAVE_PATH}\")\n",
    "torch.save(obj=model_0.state_dict(), f=MODEL_SAVE_PATH)"
   ]
  },
  {
   "cell_type": "markdown",
   "id": "aec00a30-bb69-4e76-8978-d45246e0e384",
   "metadata": {},
   "source": [
    "# Loading a PyTorch model\n",
    "Since we saved our model's state_dict() rather than the entire model, We'll craete a new instance of our model class and load the saved satate_dict() into that."
   ]
  },
  {
   "cell_type": "code",
   "execution_count": 29,
   "id": "827a77b6-ebdb-4100-aacc-fb3589f52a86",
   "metadata": {},
   "outputs": [
    {
     "data": {
      "text/plain": [
       "OrderedDict([('weights', tensor([0.6990])), ('bias', tensor([0.3093]))])"
      ]
     },
     "execution_count": 29,
     "metadata": {},
     "output_type": "execute_result"
    }
   ],
   "source": [
    "model_0.state_dict()"
   ]
  },
  {
   "cell_type": "code",
   "execution_count": 35,
   "id": "46d10685-7ecf-4e06-bec5-92c9f6c7dda9",
   "metadata": {},
   "outputs": [
    {
     "data": {
      "text/plain": [
       "<All keys matched successfully>"
      ]
     },
     "execution_count": 35,
     "metadata": {},
     "output_type": "execute_result"
    }
   ],
   "source": [
    "# To load in a saved state_dict we have to instantiate a new instance of our model class\n",
    "loaded_model_0 = LinearRegressionModel()\n",
    "\n",
    "# Load the saved state_dict of model_0 (this will update the new instance with updated parameters)\n",
    "loaded_model_0.load_state_dict(torch.load(f=MODEL_SAVE_PATH))"
   ]
  },
  {
   "cell_type": "code",
   "execution_count": 36,
   "id": "3e9b6837-7a21-4002-9ec7-3824e1c347c6",
   "metadata": {},
   "outputs": [
    {
     "data": {
      "text/plain": [
       "OrderedDict([('weights', tensor([0.6990])), ('bias', tensor([0.3093]))])"
      ]
     },
     "execution_count": 36,
     "metadata": {},
     "output_type": "execute_result"
    }
   ],
   "source": [
    "loaded_model_0.state_dict()"
   ]
  },
  {
   "cell_type": "code",
   "execution_count": 37,
   "id": "2808e75d-3ebb-4ad9-9084-2cf5371f16bf",
   "metadata": {},
   "outputs": [
    {
     "data": {
      "text/plain": [
       "tensor([[0.8685],\n",
       "        [0.8825],\n",
       "        [0.8965],\n",
       "        [0.9105],\n",
       "        [0.9245],\n",
       "        [0.9384],\n",
       "        [0.9524],\n",
       "        [0.9664],\n",
       "        [0.9804],\n",
       "        [0.9944]])"
      ]
     },
     "execution_count": 37,
     "metadata": {},
     "output_type": "execute_result"
    }
   ],
   "source": [
    "# Make some predictions with our loaded model\n",
    "loaded_model_0.eval()\n",
    "with torch.inference_mode():\n",
    "    loaded_model_preds = loaded_model_0(X_test)\n",
    "\n",
    "loaded_model_preds"
   ]
  },
  {
   "cell_type": "code",
   "execution_count": 41,
   "id": "5d307e17-f549-4e74-9ecc-f77ba7153c29",
   "metadata": {},
   "outputs": [
    {
     "data": {
      "text/plain": [
       "tensor([[False],\n",
       "        [False],\n",
       "        [False],\n",
       "        [False],\n",
       "        [False],\n",
       "        [False],\n",
       "        [False],\n",
       "        [False],\n",
       "        [False],\n",
       "        [False]])"
      ]
     },
     "execution_count": 41,
     "metadata": {},
     "output_type": "execute_result"
    }
   ],
   "source": [
    "# Compare loaded model preds with original model preds\n",
    "y_preds == loaded_model_preds"
   ]
  },
  {
   "cell_type": "code",
   "execution_count": 42,
   "id": "03be7e39-925c-4237-b413-2ceddcf54da7",
   "metadata": {},
   "outputs": [
    {
     "data": {
      "text/plain": [
       "tensor([[0.8685],\n",
       "        [0.8825],\n",
       "        [0.8965],\n",
       "        [0.9105],\n",
       "        [0.9245],\n",
       "        [0.9384],\n",
       "        [0.9524],\n",
       "        [0.9664],\n",
       "        [0.9804],\n",
       "        [0.9944]])"
      ]
     },
     "execution_count": 42,
     "metadata": {},
     "output_type": "execute_result"
    }
   ],
   "source": [
    "# make some models preds\n",
    "model_0.eval()\n",
    "with torch.inference_mode():\n",
    "    y_preds = model_0(X_test)\n",
    "y_preds"
   ]
  },
  {
   "cell_type": "code",
   "execution_count": 43,
   "id": "311a756a-c23f-4e2b-9ded-add59770b68b",
   "metadata": {},
   "outputs": [
    {
     "data": {
      "text/plain": [
       "tensor([[True],\n",
       "        [True],\n",
       "        [True],\n",
       "        [True],\n",
       "        [True],\n",
       "        [True],\n",
       "        [True],\n",
       "        [True],\n",
       "        [True],\n",
       "        [True]])"
      ]
     },
     "execution_count": 43,
     "metadata": {},
     "output_type": "execute_result"
    }
   ],
   "source": [
    "# Compare loaded model preds with original model preds\n",
    "y_preds == loaded_model_preds"
   ]
  },
  {
   "cell_type": "markdown",
   "id": "63cecbc6-b86e-4366-9cd3-653c801f339a",
   "metadata": {},
   "source": [
    "# 6. Putting it all together\n",
    "Let's go back through the steps above and see it all in one place"
   ]
  },
  {
   "cell_type": "code",
   "execution_count": 1,
   "id": "be74e82d-8375-4bf2-b038-a792d6c84d0f",
   "metadata": {},
   "outputs": [
    {
     "name": "stdout",
     "output_type": "stream",
     "text": [
      "Torch version: 2.2.0+cu121\n",
      "Using device: cuda\n"
     ]
    }
   ],
   "source": [
    "# import necessary libraries\n",
    "import torch\n",
    "from torch import nn\n",
    "import matplotlib.pyplot as plt\n",
    "import numpy as np\n",
    "\n",
    "# check torch version\n",
    "print(f\"Torch version: {torch.__version__}\")\n",
    "\n",
    "# Setup device agnostic code\n",
    "device = \"cuda\" if torch.cuda.is_available() else \"cpu\"\n",
    "print(f\"Using device: {device}\")"
   ]
  },
  {
   "cell_type": "markdown",
   "id": "6364b1b3-fbff-4b0a-8a9a-b7c7901f389e",
   "metadata": {},
   "source": [
    "### 6.1 Data"
   ]
  },
  {
   "cell_type": "code",
   "execution_count": 2,
   "id": "cfbccc97-ae5a-40a7-9e1d-26539fe3e10c",
   "metadata": {},
   "outputs": [
    {
     "data": {
      "text/plain": [
       "(40, 40, 10, 10)"
      ]
     },
     "execution_count": 2,
     "metadata": {},
     "output_type": "execute_result"
    }
   ],
   "source": [
    "# Linear regression line equation: { Y = a + bX }\n",
    "# create *known* parameters\n",
    "weight = 0.7\n",
    "bias = 0.3\n",
    "\n",
    "# Create \n",
    "start = 0\n",
    "end = 1\n",
    "step = 0.02\n",
    "X = torch.arange(start, end, step).unsqueeze(dim=1) # adds extra dimension\n",
    "y = weight * X + bias\n",
    "\n",
    "# Split Data\n",
    "## Create a train / test split\n",
    "train_split = int(0.8 * len(X))\n",
    "\n",
    "X_train, y_train = X[:train_split], y[:train_split]\n",
    "X_test, y_test = X[train_split:], y[train_split:]\n",
    "\n",
    "len(X_train), len(y_train), len(X_test), len(y_test)"
   ]
  },
  {
   "cell_type": "markdown",
   "id": "f39b850f-5c71-4a2e-9d1f-f6e7f45dcc9c",
   "metadata": {},
   "source": [
    "# Visualization"
   ]
  },
  {
   "cell_type": "code",
   "execution_count": 3,
   "id": "cac91ac6-83bf-4227-8c59-9e2727e2db40",
   "metadata": {},
   "outputs": [
    {
     "data": {
      "image/png": "[encoded data removed]",
      "text/plain": [
       "<Figure size 1000x700 with 1 Axes>"
      ]
     },
     "metadata": {},
     "output_type": "display_data"
    }
   ],
   "source": [
    "def plot_predictions(train_data=X_train,\n",
    "                     train_labels=y_train,\n",
    "                     test_data=X_test,\n",
    "                     test_labels=y_test,\n",
    "                     predictions=None):\n",
    "    \"\"\"\n",
    "    Plots training data, test data and compares predictions.\n",
    "    \"\"\"\n",
    "    plt.figure(figsize=(10, 7))\n",
    "\n",
    "    # Plot training data in blue\n",
    "    plt.scatter(train_data, train_labels, c=\"b\", s=4, label='Training Data')\n",
    "\n",
    "    # plot test data in green\n",
    "    plt.scatter(test_data, test_labels, c=\"g\", s=4, label=\"Testing data\")\n",
    "\n",
    "    # Are there predictions?\n",
    "    if predictions is not None:\n",
    "        plt.scatter(test_data, predictions, c=\"r\", s=4, label=\"Predictions\")\n",
    "\n",
    "    # show the legend\n",
    "    plt.legend(prop={\"size\": 14});\n",
    "plot_predictions()"
   ]
  },
  {
   "cell_type": "markdown",
   "id": "705dc69c-ed00-4437-ba62-764058000e00",
   "metadata": {},
   "source": [
    "# 6.2 Building the Regression model"
   ]
  },
  {
   "cell_type": "code",
   "execution_count": 4,
   "id": "9a6be404-8eb6-4b6d-ab12-7e6c96675016",
   "metadata": {},
   "outputs": [
    {
     "data": {
      "text/plain": [
       "(LinearRegressionModel_V2(\n",
       "   (linear_layer): Linear(in_features=1, out_features=1, bias=True)\n",
       " ),\n",
       " OrderedDict([('linear_layer.weight', tensor([[0.7645]])),\n",
       "              ('linear_layer.bias', tensor([0.8300]))]))"
      ]
     },
     "execution_count": 4,
     "metadata": {},
     "output_type": "execute_result"
    }
   ],
   "source": [
    "class LinearRegressionModel_V2(nn.Module):\n",
    "    def __init__(self):\n",
    "        super().__init__()\n",
    "\n",
    "        # Use nn.Linear() for creating the model parameters / aslo called: linear transform, fully connected layer, dense layer\n",
    "        self.linear_layer = nn.Linear(in_features=1, out_features=1)\n",
    "        \n",
    "    # Forward method to define the computation in the model\n",
    "    def forward(self, x: torch.Tensor) -> torch.Tensor: \n",
    "        return self.linear_layer(x) # this pefroms linear regression formula in the background\n",
    "\n",
    "# Set the manual seed\n",
    "torch.manual_seed(42)\n",
    "model_1 = LinearRegressionModel_V2()\n",
    "model_1, model_1.state_dict()"
   ]
  },
  {
   "cell_type": "code",
   "execution_count": 5,
   "id": "04721396-9fce-4d2d-a5db-34ae228ab8ed",
   "metadata": {},
   "outputs": [
    {
     "data": {
      "text/plain": [
       "tensor([[1.4416],\n",
       "        [1.4569],\n",
       "        [1.4722],\n",
       "        [1.4875],\n",
       "        [1.5028],\n",
       "        [1.5181],\n",
       "        [1.5334],\n",
       "        [1.5487],\n",
       "        [1.5640],\n",
       "        [1.5793]])"
      ]
     },
     "execution_count": 5,
     "metadata": {},
     "output_type": "execute_result"
    }
   ],
   "source": [
    "# Turn model into evaluation mode\n",
    "model_1.eval()\n",
    "\n",
    "# Make predictions with model before training\n",
    "with torch.inference_mode():\n",
    "    y_preds = model_1(X_test)\n",
    "y_preds"
   ]
  },
  {
   "cell_type": "code",
   "execution_count": null,
   "id": "698891a6-8107-40e9-9d72-9499e6f002f4",
   "metadata": {},
   "outputs": [],
   "source": []
  },
  {
   "cell_type": "markdown",
   "id": "5d213e49-790d-4731-b73b-efdacc7f2fc5",
   "metadata": {},
   "source": [
    "# 6.2.1 Picka a loss function & optmizer"
   ]
  },
  {
   "cell_type": "code",
   "execution_count": 6,
   "id": "b75bca18-be2c-4a22-a8b0-3c27ba198fe3",
   "metadata": {},
   "outputs": [],
   "source": [
    "# Setup a loss function\n",
    "loss_fn = nn.L1Loss() # same as MAE (Mean Absolute Error)\n",
    "\n",
    "# Setup an optimizer\n",
    "optimizer = torch.optim.SGD(params=model_1.parameters(), lr=0.01)"
   ]
  },
  {
   "cell_type": "markdown",
   "id": "929e8bed-ba91-43de-87ac-b206cb651df9",
   "metadata": {},
   "source": [
    "# 6.2.2 Build a training loop"
   ]
  },
  {
   "cell_type": "code",
   "execution_count": 9,
   "id": "aca79b12-ad51-4e76-8918-4e415d474c0c",
   "metadata": {},
   "outputs": [
    {
     "name": "stdout",
     "output_type": "stream",
     "text": [
      "Epoch: 0 | Loss: 0.5436569452285767 | Test loss: 0.5605052709579468\n",
      "OrderedDict({'linear_layer.weight': tensor([[0.7567]]), 'linear_layer.bias': tensor([0.8100])})\n",
      "Epoch: 10 | Loss: 0.42844706773757935 | Test loss: 0.42579537630081177\n",
      "OrderedDict({'linear_layer.weight': tensor([[0.7177]]), 'linear_layer.bias': tensor([0.7100])})\n",
      "Epoch: 20 | Loss: 0.31323719024658203 | Test loss: 0.2910855710506439\n",
      "OrderedDict({'linear_layer.weight': tensor([[0.6787]]), 'linear_layer.bias': tensor([0.6100])})\n",
      "Epoch: 30 | Loss: 0.1980273276567459 | Test loss: 0.1563757359981537\n",
      "OrderedDict({'linear_layer.weight': tensor([[0.6397]]), 'linear_layer.bias': tensor([0.5100])})\n",
      "Epoch: 40 | Loss: 0.0828174576163292 | Test loss: 0.021665919572114944\n",
      "OrderedDict({'linear_layer.weight': tensor([[0.6007]]), 'linear_layer.bias': tensor([0.4100])})\n",
      "Epoch: 50 | Loss: 0.023356426507234573 | Test loss: 0.048834484070539474\n",
      "OrderedDict({'linear_layer.weight': tensor([[0.5884]]), 'linear_layer.bias': tensor([0.3505])})\n",
      "Epoch: 60 | Loss: 0.019609849900007248 | Test loss: 0.04538799077272415\n",
      "OrderedDict({'linear_layer.weight': tensor([[0.6040]]), 'linear_layer.bias': tensor([0.3400])})\n",
      "Epoch: 70 | Loss: 0.01618141308426857 | Test loss: 0.03711546212434769\n",
      "OrderedDict({'linear_layer.weight': tensor([[0.6212]]), 'linear_layer.bias': tensor([0.3330])})\n",
      "Epoch: 80 | Loss: 0.012742981314659119 | Test loss: 0.028842901811003685\n",
      "OrderedDict({'linear_layer.weight': tensor([[0.6384]]), 'linear_layer.bias': tensor([0.3260])})\n",
      "Epoch: 90 | Loss: 0.0093079237267375 | Test loss: 0.02125726267695427\n",
      "OrderedDict({'linear_layer.weight': tensor([[0.6553]]), 'linear_layer.bias': tensor([0.3185])})\n",
      "Epoch: 100 | Loss: 0.005878164432942867 | Test loss: 0.012984687462449074\n",
      "OrderedDict({'linear_layer.weight': tensor([[0.6725]]), 'linear_layer.bias': tensor([0.3115])})\n",
      "Epoch: 110 | Loss: 0.002439356641843915 | Test loss: 0.004712158348411322\n",
      "OrderedDict({'linear_layer.weight': tensor([[0.6896]]), 'linear_layer.bias': tensor([0.3045])})\n",
      "Epoch: 120 | Loss: 0.010256484150886536 | Test loss: 0.0003308236482553184\n",
      "OrderedDict({'linear_layer.weight': tensor([[0.6968]]), 'linear_layer.bias': tensor([0.3025])})\n",
      "Epoch: 130 | Loss: 0.010256484150886536 | Test loss: 0.0003308236482553184\n",
      "OrderedDict({'linear_layer.weight': tensor([[0.6968]]), 'linear_layer.bias': tensor([0.3025])})\n",
      "Epoch: 140 | Loss: 0.010256484150886536 | Test loss: 0.0003308236482553184\n",
      "OrderedDict({'linear_layer.weight': tensor([[0.6968]]), 'linear_layer.bias': tensor([0.3025])})\n",
      "Epoch: 150 | Loss: 0.010256484150886536 | Test loss: 0.0003308236482553184\n",
      "OrderedDict({'linear_layer.weight': tensor([[0.6968]]), 'linear_layer.bias': tensor([0.3025])})\n",
      "Epoch: 160 | Loss: 0.010256484150886536 | Test loss: 0.0003308236482553184\n",
      "OrderedDict({'linear_layer.weight': tensor([[0.6968]]), 'linear_layer.bias': tensor([0.3025])})\n",
      "Epoch: 170 | Loss: 0.010256484150886536 | Test loss: 0.0003308236482553184\n",
      "OrderedDict({'linear_layer.weight': tensor([[0.6968]]), 'linear_layer.bias': tensor([0.3025])})\n",
      "Epoch: 180 | Loss: 0.010256484150886536 | Test loss: 0.0003308236482553184\n",
      "OrderedDict({'linear_layer.weight': tensor([[0.6968]]), 'linear_layer.bias': tensor([0.3025])})\n",
      "Epoch: 190 | Loss: 0.010256484150886536 | Test loss: 0.0003308236482553184\n",
      "OrderedDict({'linear_layer.weight': tensor([[0.6968]]), 'linear_layer.bias': tensor([0.3025])})\n"
     ]
    }
   ],
   "source": [
    "torch.manual_seed(42)\n",
    "\n",
    "epochs = 200\n",
    "\n",
    "epoch_count = []\n",
    "loss_values = []\n",
    "test_loss_values = []\n",
    "\n",
    "# Training the model\n",
    "for epoch in range(epochs):\n",
    "    # set the model training mode\n",
    "    model_1.train()\n",
    "\n",
    "    # 1. Forward pass / propagation\n",
    "    y_pred = model_1(X_train)\n",
    "\n",
    "    # 2. Calculate the loss\n",
    "    loss = loss_fn(y_pred, y_train)\n",
    "\n",
    "    # 3. optimizer zero grad\n",
    "    optimizer.zero_grad()\n",
    "\n",
    "    # 4. Perform backpropagation on the loss with respect to the parameters of the model\n",
    "    loss.backward()\n",
    "\n",
    "    # 5. Step the optimizer (perform gradient descent)\n",
    "    optimizer.step()\n",
    "\n",
    "\n",
    "    # Testing\n",
    "    model_1.eval() # turns off different settings in the model not needed for evaluation/testing (dropout/batch norm layers)\n",
    "    with torch.inference_mode(): # turns off gradient tracking & a couple more things behind the scences.\n",
    "\n",
    "        # 1. do the forward pass\n",
    "        test_pred = model_1(X_test)\n",
    "\n",
    "        # 2. Calculate the loss\n",
    "        test_loss = loss_fn(test_pred, y_test)\n",
    "\n",
    "    # Print out what is happening\n",
    "    if epoch % 10 == 0:\n",
    "        epoch_count.append(epoch)\n",
    "        loss_values.append(loss)\n",
    "        test_loss_values.append(test_loss)\n",
    "        print(f\"Epoch: {epoch} | Loss: {loss} | Test loss: {test_loss}\")\n",
    "\n",
    "        # Print out model state_dict()\n",
    "        print(model_1.state_dict())"
   ]
  },
  {
   "cell_type": "code",
   "execution_count": 10,
   "id": "2b1e0aa9-ed3f-4ebb-ac0c-72c7982b5865",
   "metadata": {},
   "outputs": [
    {
     "data": {
      "text/plain": [
       "OrderedDict([('linear_layer.weight', tensor([[0.6929]])),\n",
       "             ('linear_layer.bias', tensor([0.2925]))])"
      ]
     },
     "execution_count": 10,
     "metadata": {},
     "output_type": "execute_result"
    }
   ],
   "source": [
    "model_1.state_dict()"
   ]
  },
  {
   "cell_type": "code",
   "execution_count": 11,
   "id": "9a83f4b7-88e9-4595-8dc6-c38dcc49f31a",
   "metadata": {},
   "outputs": [
    {
     "data": {
      "text/plain": [
       "(0.7, 0.3)"
      ]
     },
     "execution_count": 11,
     "metadata": {},
     "output_type": "execute_result"
    }
   ],
   "source": [
    "weight, bias"
   ]
  },
  {
   "cell_type": "markdown",
   "id": "aef6e7fa-1670-4eb0-9cfc-1f28a57f319d",
   "metadata": {},
   "source": [
    "# Evaluation"
   ]
  },
  {
   "cell_type": "code",
   "execution_count": 12,
   "id": "1196906a-c8c4-492a-a77e-9ce2fc391c16",
   "metadata": {},
   "outputs": [
    {
     "data": {
      "text/plain": [
       "tensor([[0.8468],\n",
       "        [0.8607],\n",
       "        [0.8746],\n",
       "        [0.8884],\n",
       "        [0.9023],\n",
       "        [0.9161],\n",
       "        [0.9300],\n",
       "        [0.9438],\n",
       "        [0.9577],\n",
       "        [0.9716]])"
      ]
     },
     "execution_count": 12,
     "metadata": {},
     "output_type": "execute_result"
    }
   ],
   "source": [
    "# Turn model into evaluation mode\n",
    "model_1.eval()\n",
    "\n",
    "with torch.inference_mode():\n",
    "    y_preds_new = model_1(X_test)\n",
    "y_preds_new"
   ]
  },
  {
   "cell_type": "markdown",
   "id": "5315d20a-2934-41a5-a9ed-5f315d22b7af",
   "metadata": {},
   "source": [
    "### Before Training"
   ]
  },
  {
   "cell_type": "code",
   "execution_count": 13,
   "id": "a9f1da1b-adf9-4da3-ae34-bf7fd00b516b",
   "metadata": {},
   "outputs": [
    {
     "data": {
      "image/png": "[encoded data removed]",
      "text/plain": [
       "<Figure size 1000x700 with 1 Axes>"
      ]
     },
     "metadata": {},
     "output_type": "display_data"
    }
   ],
   "source": [
    "plot_predictions(predictions=y_preds)"
   ]
  },
  {
   "cell_type": "markdown",
   "id": "141f922d-4abd-43a4-810a-bf5c8fc32ba4",
   "metadata": {},
   "source": [
    "### After Training\n"
   ]
  },
  {
   "cell_type": "code",
   "execution_count": 14,
   "id": "8a9a4f34-bb68-4174-b2e1-e5acdcccf1bb",
   "metadata": {},
   "outputs": [
    {
     "data": {
      "image/png": "[encoded data removed]",
      "text/plain": [
       "<Figure size 1000x700 with 1 Axes>"
      ]
     },
     "metadata": {},
     "output_type": "display_data"
    }
   ],
   "source": [
    "plot_predictions(predictions=y_preds_new)"
   ]
  },
  {
   "cell_type": "markdown",
   "id": "afd7cf5a-93ba-48fc-afbd-e15119ffaa9c",
   "metadata": {},
   "source": [
    "# Plot the loss curves"
   ]
  },
  {
   "cell_type": "code",
   "execution_count": 15,
   "id": "42eb2730-e610-4745-9db7-0a9eef5603de",
   "metadata": {},
   "outputs": [
    {
     "data": {
      "image/png": "[encoded data removed]",
      "text/plain": [
       "<Figure size 640x480 with 1 Axes>"
      ]
     },
     "metadata": {},
     "output_type": "display_data"
    }
   ],
   "source": [
    "plt.plot(epoch_count, np.array(torch.tensor(loss_values).numpy()), label=\"Train loss\")\n",
    "plt.plot(epoch_count, test_loss_values, label='Test loss')\n",
    "plt.title('Training and test loss curves')\n",
    "plt.ylabel(\"Loss\")\n",
    "plt.xlabel(\"Epochs\")\n",
    "plt.legend();"
   ]
  },
  {
   "cell_type": "markdown",
   "id": "3fc846a7-2f28-4564-b082-bb60971b0233",
   "metadata": {},
   "source": [
    "# Saving the model"
   ]
  },
  {
   "cell_type": "code",
   "execution_count": 25,
   "id": "dd71b401-a25c-4372-a740-86f2cb912e9b",
   "metadata": {},
   "outputs": [
    {
     "name": "stdout",
     "output_type": "stream",
     "text": [
      "Saved model to: models\\01_pytorch_workflow_model_1.pth\n"
     ]
    },
    {
     "ename": "NameError",
     "evalue": "name 'model_1' is not defined",
     "output_type": "error",
     "traceback": [
      "\u001b[1;31m---------------------------------------------------------------------------\u001b[0m",
      "\u001b[1;31mNameError\u001b[0m                                 Traceback (most recent call last)",
      "Cell \u001b[1;32mIn[25], line 13\u001b[0m\n\u001b[0;32m     11\u001b[0m \u001b[38;5;66;03m# 3. Save the model state dict\u001b[39;00m\n\u001b[0;32m     12\u001b[0m \u001b[38;5;28mprint\u001b[39m(\u001b[38;5;124mf\u001b[39m\u001b[38;5;124m\"\u001b[39m\u001b[38;5;124mSaved model to: \u001b[39m\u001b[38;5;132;01m{\u001b[39;00mMODEL_SAVE_PATH\u001b[38;5;132;01m}\u001b[39;00m\u001b[38;5;124m\"\u001b[39m)\n\u001b[1;32m---> 13\u001b[0m torch\u001b[38;5;241m.\u001b[39msave(obj\u001b[38;5;241m=\u001b[39m\u001b[43mmodel_1\u001b[49m\u001b[38;5;241m.\u001b[39mstate_dict(), f\u001b[38;5;241m=\u001b[39mMODEL_SAVE_PATH)\n",
      "\u001b[1;31mNameError\u001b[0m: name 'model_1' is not defined"
     ]
    }
   ],
   "source": [
    "from pathlib import Path\n",
    "\n",
    "# 1. Create models directory\n",
    "MODEL_PATH = Path(\"models\")\n",
    "MODEL_PATH.mkdir(parents=True, exist_ok=True)\n",
    "\n",
    "# 2. Create model save path\n",
    "MODEL_NAME = \"01_pytorch_workflow_model_1.pth\"\n",
    "MODEL_SAVE_PATH = MODEL_PATH / MODEL_NAME\n",
    "\n",
    "# 3. Save the model state dict\n",
    "print(f\"Saved model to: {MODEL_SAVE_PATH}\")\n",
    "torch.save(obj=model_1.state_dict(), f=MODEL_SAVE_PATH)\n"
   ]
  },
  {
   "cell_type": "markdown",
   "id": "9bea2c80-97a3-463b-b538-bdf0186c185f",
   "metadata": {},
   "source": [
    "# Loading the model"
   ]
  },
  {
   "cell_type": "code",
   "execution_count": 20,
   "id": "00215538-f776-43fa-b7f1-21a85defd128",
   "metadata": {},
   "outputs": [
    {
     "data": {
      "text/plain": [
       "OrderedDict([('linear_layer.weight', tensor([[0.6929]])),\n",
       "             ('linear_layer.bias', tensor([0.2925]))])"
      ]
     },
     "execution_count": 20,
     "metadata": {},
     "output_type": "execute_result"
    }
   ],
   "source": [
    "# instantiating a new instance of our model class\n",
    "loaded_model_1 = LinearRegressionModel_V2()\n",
    "\n",
    "# Load the saved state_dict of the model_1 (this will update the new instance with updated parameters)\n",
    "loaded_model_1.load_state_dict(torch.load(f=MODEL_SAVE_PATH))\n",
    "\n",
    "loaded_model_1.state_dict()"
   ]
  },
  {
   "cell_type": "code",
   "execution_count": 21,
   "id": "377b5e86-40da-4b56-af37-d204b1716a0e",
   "metadata": {},
   "outputs": [
    {
     "data": {
      "text/plain": [
       "tensor([[0.8468],\n",
       "        [0.8607],\n",
       "        [0.8746],\n",
       "        [0.8884],\n",
       "        [0.9023],\n",
       "        [0.9161],\n",
       "        [0.9300],\n",
       "        [0.9438],\n",
       "        [0.9577],\n",
       "        [0.9716]])"
      ]
     },
     "execution_count": 21,
     "metadata": {},
     "output_type": "execute_result"
    }
   ],
   "source": [
    "## Evaluating our loaded model\n",
    "loaded_model_1.eval()\n",
    "with torch.inference_mode():\n",
    "    loaded_model_preds = loaded_model_1(X_test)\n",
    "\n",
    "loaded_model_preds"
   ]
  },
  {
   "cell_type": "code",
   "execution_count": 22,
   "id": "7335d6c7-bacc-4eaf-a61e-f0f7d270e0d2",
   "metadata": {},
   "outputs": [
    {
     "data": {
      "text/plain": [
       "tensor([[0.8468],\n",
       "        [0.8607],\n",
       "        [0.8746],\n",
       "        [0.8884],\n",
       "        [0.9023],\n",
       "        [0.9161],\n",
       "        [0.9300],\n",
       "        [0.9438],\n",
       "        [0.9577],\n",
       "        [0.9716]])"
      ]
     },
     "execution_count": 22,
     "metadata": {},
     "output_type": "execute_result"
    }
   ],
   "source": [
    "model_1.eval()\n",
    "with torch.inference_mode():\n",
    "    y_preds = model_1(X_test)\n",
    "y_preds"
   ]
  },
  {
   "cell_type": "code",
   "execution_count": 23,
   "id": "65e15ae4-033a-44b7-a054-e14b955c7e68",
   "metadata": {},
   "outputs": [
    {
     "data": {
      "text/plain": [
       "tensor([[True],\n",
       "        [True],\n",
       "        [True],\n",
       "        [True],\n",
       "        [True],\n",
       "        [True],\n",
       "        [True],\n",
       "        [True],\n",
       "        [True],\n",
       "        [True]])"
      ]
     },
     "execution_count": 23,
     "metadata": {},
     "output_type": "execute_result"
    }
   ],
   "source": [
    "loaded_model_preds == y_preds"
   ]
  },
  {
   "cell_type": "markdown",
   "id": "5a84aa58-5a37-4661-86f4-c021f30cec50",
   "metadata": {},
   "source": [
    "<h1>Exercises</h1>"
   ]
  },
  {
   "cell_type": "code",
   "execution_count": 1,
   "id": "9d4ceba7-4e62-4d3c-816b-6020ca76f22a",
   "metadata": {},
   "outputs": [
    {
     "name": "stdout",
     "output_type": "stream",
     "text": [
      "Torch version: 2.2.0+cu121\n",
      "Using device: cuda\n"
     ]
    }
   ],
   "source": [
    "# import necessary libraries\n",
    "import torch\n",
    "from torch import nn\n",
    "import matplotlib.pyplot as plt\n",
    "import numpy as np\n",
    "\n",
    "# check torch version\n",
    "print(f\"Torch version: {torch.__version__}\")\n",
    "\n",
    "# Setup device agnostic code\n",
    "device = \"cuda\" if torch.cuda.is_available() else \"cpu\"\n",
    "print(f\"Using device: {device}\")"
   ]
  },
  {
   "cell_type": "code",
   "execution_count": 5,
   "id": "284808a8-bb00-44e9-8911-9a5e1a33df61",
   "metadata": {},
   "outputs": [
    {
     "data": {
      "text/plain": [
       "(80, 80, 20, 20)"
      ]
     },
     "execution_count": 5,
     "metadata": {},
     "output_type": "execute_result"
    }
   ],
   "source": [
    "# Linear regression line equation: { Y = a + bX }\n",
    "# create *known* parameters\n",
    "weight = 0.3\n",
    "bias = 0.9\n",
    "\n",
    "# Create \n",
    "start = 0\n",
    "end = 2\n",
    "step = 0.02\n",
    "X = torch.arange(start, end, step).unsqueeze(dim=1) # adds extra dimension\n",
    "y = weight * X + bias\n",
    "\n",
    "# Split Data\n",
    "## Create a train / test split\n",
    "train_split = int(0.8 * len(X))\n",
    "\n",
    "X_train, y_train = X[:train_split], y[:train_split]\n",
    "X_test, y_test = X[train_split:], y[train_split:]\n",
    "\n",
    "len(X_train), len(y_train), len(X_test), len(y_test)"
   ]
  },
  {
   "cell_type": "code",
   "execution_count": 9,
   "id": "1ba13a55-60d8-4c6c-937c-1669aa2ddfd1",
   "metadata": {},
   "outputs": [
    {
     "data": {
      "image/png": "[encoded data removed]",
      "text/plain": [
       "<Figure size 1000x700 with 1 Axes>"
      ]
     },
     "metadata": {},
     "output_type": "display_data"
    }
   ],
   "source": [
    "def plot_predictions(train_data=X_train,\n",
    "                     train_labels=y_train,\n",
    "                     test_data=X_test,\n",
    "                     test_labels=y_test,\n",
    "                     predictions=None):\n",
    "    \"\"\"\n",
    "    Plots training data, test data and compares predictions.\n",
    "    \"\"\"\n",
    "    plt.figure(figsize=(10, 7))\n",
    "\n",
    "    # Plot training data in blue\n",
    "    plt.scatter(train_data, train_labels, c=\"b\", s=4, label='Training Data')\n",
    "\n",
    "    # plot test data in green\n",
    "    plt.scatter(test_data, test_labels, c=\"g\", s=4, label=\"Testing data\")\n",
    "\n",
    "    # Are there predictions?\n",
    "    if predictions is not None:\n",
    "        plt.scatter(test_data, predictions, c=\"r\", s=4, label=\"Predictions\")\n",
    "\n",
    "    # show the legend\n",
    "    plt.legend(prop={\"size\": 14});\n",
    "plot_predictions()"
   ]
  },
  {
   "cell_type": "code",
   "execution_count": 10,
   "id": "cc63e64c-a405-4893-89ed-d3195a761436",
   "metadata": {},
   "outputs": [
    {
     "data": {
      "text/plain": [
       "(LinearRegressionModel_V3(\n",
       "   (linear_layer): Linear(in_features=1, out_features=1, bias=True)\n",
       " ),\n",
       " OrderedDict([('linear_layer.weight', tensor([[0.7645]])),\n",
       "              ('linear_layer.bias', tensor([0.8300]))]))"
      ]
     },
     "execution_count": 10,
     "metadata": {},
     "output_type": "execute_result"
    }
   ],
   "source": [
    "# Building Module\n",
    "\n",
    "class LinearRegressionModel_V3(nn.Module):\n",
    "    def __init__(self):\n",
    "        super().__init__()\n",
    "\n",
    "        # Use nn.Linear() for creating the model parameters / aslo called: linear transform, fully connected layer, dense layer\n",
    "        self.linear_layer = nn.Linear(in_features=1, out_features=1)\n",
    "        \n",
    "    # Forward method to define the computation in the model\n",
    "    def forward(self, x: torch.Tensor) -> torch.Tensor: \n",
    "        return self.linear_layer(x) # this pefroms linear regression formula in the background\n",
    "\n",
    "# Set the manual seed\n",
    "torch.manual_seed(42)\n",
    "model_2 = LinearRegressionModel_V3()\n",
    "model_2, model_2.state_dict()"
   ]
  },
  {
   "cell_type": "code",
   "execution_count": 12,
   "id": "5818257d-28d9-45b9-b0f1-76f1d233142a",
   "metadata": {},
   "outputs": [],
   "source": [
    "# Setup a loss function\n",
    "loss_fn = nn.L1Loss() # same as MAE (Mean Absolute Error)\n",
    "\n",
    "# Setup an optimizer\n",
    "optimizer = torch.optim.SGD(params=model_2.parameters(), lr=0.01)"
   ]
  },
  {
   "cell_type": "code",
   "execution_count": 13,
   "id": "d49c8cde-204e-4946-837c-e35972d471da",
   "metadata": {},
   "outputs": [
    {
     "name": "stdout",
     "output_type": "stream",
     "text": [
      "Epoch: 0 | Loss: 0.3044882118701935 | Test loss: 0.739641547203064\n",
      "OrderedDict({'linear_layer.weight': tensor([[0.7568]]), 'linear_layer.bias': tensor([0.8220])})\n",
      "Epoch: 10 | Loss: 0.20148487389087677 | Test loss: 0.5399021506309509\n",
      "OrderedDict({'linear_layer.weight': tensor([[0.6822]]), 'linear_layer.bias': tensor([0.7558])})\n",
      "Epoch: 20 | Loss: 0.14004984498023987 | Test loss: 0.38408851623535156\n",
      "OrderedDict({'linear_layer.weight': tensor([[0.6174]]), 'linear_layer.bias': tensor([0.7160])})\n",
      "Epoch: 30 | Loss: 0.10848859697580338 | Test loss: 0.2749379873275757\n",
      "OrderedDict({'linear_layer.weight': tensor([[0.5656]]), 'linear_layer.bias': tensor([0.6995])})\n",
      "Epoch: 40 | Loss: 0.09311974793672562 | Test loss: 0.2101781815290451\n",
      "OrderedDict({'linear_layer.weight': tensor([[0.5279]]), 'linear_layer.bias': tensor([0.7023])})\n",
      "Epoch: 50 | Loss: 0.08289730548858643 | Test loss: 0.17251098155975342\n",
      "OrderedDict({'linear_layer.weight': tensor([[0.4993]]), 'linear_layer.bias': tensor([0.7158])})\n",
      "Epoch: 60 | Loss: 0.07367551326751709 | Test loss: 0.1480330377817154\n",
      "OrderedDict({'linear_layer.weight': tensor([[0.4753]]), 'linear_layer.bias': tensor([0.7343])})\n",
      "Epoch: 70 | Loss: 0.06456796824932098 | Test loss: 0.12757880985736847\n",
      "OrderedDict({'linear_layer.weight': tensor([[0.4527]]), 'linear_layer.bias': tensor([0.7543])})\n",
      "Epoch: 80 | Loss: 0.055468879640102386 | Test loss: 0.10848381370306015\n",
      "OrderedDict({'linear_layer.weight': tensor([[0.4306]]), 'linear_layer.bias': tensor([0.7748])})\n",
      "Epoch: 90 | Loss: 0.04637403041124344 | Test loss: 0.09006848186254501\n",
      "OrderedDict({'linear_layer.weight': tensor([[0.4087]]), 'linear_layer.bias': tensor([0.7955])})\n",
      "Epoch: 100 | Loss: 0.03728339821100235 | Test loss: 0.07233278453350067\n",
      "OrderedDict({'linear_layer.weight': tensor([[0.3871]]), 'linear_layer.bias': tensor([0.8165])})\n",
      "Epoch: 110 | Loss: 0.028188729658722878 | Test loss: 0.054597098380327225\n",
      "OrderedDict({'linear_layer.weight': tensor([[0.3654]]), 'linear_layer.bias': tensor([0.8375])})\n",
      "Epoch: 120 | Loss: 0.019097935408353806 | Test loss: 0.03618175536394119\n",
      "OrderedDict({'linear_layer.weight': tensor([[0.3435]]), 'linear_layer.bias': tensor([0.8583])})\n",
      "Epoch: 130 | Loss: 0.010003980249166489 | Test loss: 0.0184460636228323\n",
      "OrderedDict({'linear_layer.weight': tensor([[0.3219]]), 'linear_layer.bias': tensor([0.8793])})\n",
      "Epoch: 140 | Loss: 0.004645759705454111 | Test loss: 0.01961866021156311\n",
      "OrderedDict({'linear_layer.weight': tensor([[0.3080]]), 'linear_layer.bias': tensor([0.9053])})\n",
      "Epoch: 150 | Loss: 0.004645759705454111 | Test loss: 0.01961866021156311\n",
      "OrderedDict({'linear_layer.weight': tensor([[0.3080]]), 'linear_layer.bias': tensor([0.9053])})\n",
      "Epoch: 160 | Loss: 0.004645759705454111 | Test loss: 0.01961866021156311\n",
      "OrderedDict({'linear_layer.weight': tensor([[0.3080]]), 'linear_layer.bias': tensor([0.9053])})\n",
      "Epoch: 170 | Loss: 0.004645759705454111 | Test loss: 0.01961866021156311\n",
      "OrderedDict({'linear_layer.weight': tensor([[0.3080]]), 'linear_layer.bias': tensor([0.9053])})\n",
      "Epoch: 180 | Loss: 0.004645759705454111 | Test loss: 0.01961866021156311\n",
      "OrderedDict({'linear_layer.weight': tensor([[0.3080]]), 'linear_layer.bias': tensor([0.9053])})\n",
      "Epoch: 190 | Loss: 0.004645759705454111 | Test loss: 0.01961866021156311\n",
      "OrderedDict({'linear_layer.weight': tensor([[0.3080]]), 'linear_layer.bias': tensor([0.9053])})\n"
     ]
    }
   ],
   "source": [
    "torch.manual_seed(42)\n",
    "\n",
    "epochs = 200\n",
    "\n",
    "epoch_count = []\n",
    "loss_values = []\n",
    "test_loss_values = []\n",
    "\n",
    "# Training the model\n",
    "for epoch in range(epochs):\n",
    "    # set the model training mode\n",
    "    model_2.train()\n",
    "\n",
    "    # 1. Forward pass / propagation\n",
    "    y_pred = model_2(X_train)\n",
    "\n",
    "    # 2. Calculate the loss\n",
    "    loss = loss_fn(y_pred, y_train)\n",
    "\n",
    "    # 3. optimizer zero grad\n",
    "    optimizer.zero_grad()\n",
    "\n",
    "    # 4. Perform backpropagation on the loss with respect to the parameters of the model\n",
    "    loss.backward()\n",
    "\n",
    "    # 5. Step the optimizer (perform gradient descent)\n",
    "    optimizer.step()\n",
    "\n",
    "\n",
    "    # Testing\n",
    "    model_2.eval() # turns off different settings in the model not needed for evaluation/testing (dropout/batch norm layers)\n",
    "    with torch.inference_mode(): # turns off gradient tracking & a couple more things behind the scences.\n",
    "\n",
    "        # 1. do the forward pass\n",
    "        test_pred = model_2(X_test)\n",
    "\n",
    "        # 2. Calculate the loss\n",
    "        test_loss = loss_fn(test_pred, y_test)\n",
    "\n",
    "    # Print out what is happening\n",
    "    if epoch % 10 == 0:\n",
    "        epoch_count.append(epoch)\n",
    "        loss_values.append(loss)\n",
    "        test_loss_values.append(test_loss)\n",
    "        print(f\"Epoch: {epoch} | Loss: {loss} | Test loss: {test_loss}\")\n",
    "\n",
    "        # Print out model state_dict()\n",
    "        print(model_2.state_dict())"
   ]
  },
  {
   "cell_type": "code",
   "execution_count": 15,
   "id": "f312cb18-b748-48fc-bccb-207fadfee9d8",
   "metadata": {},
   "outputs": [
    {
     "data": {
      "text/plain": [
       "OrderedDict([('linear_layer.weight', tensor([[0.3001]])),\n",
       "             ('linear_layer.bias', tensor([0.8953]))])"
      ]
     },
     "execution_count": 15,
     "metadata": {},
     "output_type": "execute_result"
    }
   ],
   "source": [
    "model_2.state_dict()"
   ]
  },
  {
   "cell_type": "code",
   "execution_count": 16,
   "id": "7a575c55-73e2-4154-b278-a034c2370962",
   "metadata": {},
   "outputs": [
    {
     "data": {
      "text/plain": [
       "(0.3, 0.9)"
      ]
     },
     "execution_count": 16,
     "metadata": {},
     "output_type": "execute_result"
    }
   ],
   "source": [
    "weight, bias"
   ]
  },
  {
   "cell_type": "code",
   "execution_count": 22,
   "id": "1452fe65-1715-4f40-9bb4-767721c2bae7",
   "metadata": {},
   "outputs": [
    {
     "data": {
      "text/plain": [
       "tensor([[1.3755],\n",
       "        [1.3815],\n",
       "        [1.3875],\n",
       "        [1.3935],\n",
       "        [1.3995],\n",
       "        [1.4055],\n",
       "        [1.4115],\n",
       "        [1.4175],\n",
       "        [1.4235],\n",
       "        [1.4295],\n",
       "        [1.4355],\n",
       "        [1.4415],\n",
       "        [1.4475],\n",
       "        [1.4535],\n",
       "        [1.4595],\n",
       "        [1.4655],\n",
       "        [1.4715],\n",
       "        [1.4775],\n",
       "        [1.4835],\n",
       "        [1.4895]])"
      ]
     },
     "execution_count": 22,
     "metadata": {},
     "output_type": "execute_result"
    }
   ],
   "source": [
    "# Turn model into evaluation mode\n",
    "model_2.eval()\n",
    "\n",
    "with torch.inference_mode():\n",
    "    y_preds_new = model_2(X_test)\n",
    "y_preds_new"
   ]
  },
  {
   "cell_type": "code",
   "execution_count": 23,
   "id": "9b7d452d-846a-47af-90db-e619afdcc003",
   "metadata": {},
   "outputs": [
    {
     "data": {
      "image/png": "[encoded data removed]",
      "text/plain": [
       "<Figure size 1000x700 with 1 Axes>"
      ]
     },
     "metadata": {},
     "output_type": "display_data"
    }
   ],
   "source": [
    "plot_predictions(predictions=y_preds_new)"
   ]
  },
  {
   "cell_type": "code",
   "execution_count": 24,
   "id": "ed0c7c81-95b7-493f-aaa9-d3635874d090",
   "metadata": {},
   "outputs": [
    {
     "data": {
      "image/png": "[encoded data removed]",
      "text/plain": [
       "<Figure size 640x480 with 1 Axes>"
      ]
     },
     "metadata": {},
     "output_type": "display_data"
    }
   ],
   "source": [
    "plt.plot(epoch_count, np.array(torch.tensor(loss_values).numpy()), label=\"Train loss\")\n",
    "plt.plot(epoch_count, test_loss_values, label='Test loss')\n",
    "plt.title('Training and test loss curves')\n",
    "plt.ylabel(\"Loss\")\n",
    "plt.xlabel(\"Epochs\")\n",
    "plt.legend();"
   ]
  },
  {
   "cell_type": "code",
   "execution_count": 26,
   "id": "c998f491-cc01-45b5-a2e2-7c826642a7e3",
   "metadata": {},
   "outputs": [
    {
     "name": "stdout",
     "output_type": "stream",
     "text": [
      "Model Saved to: models\\01_pytorch_workflow_model_2.pth\n"
     ]
    }
   ],
   "source": [
    "# Saving the model\n",
    "from pathlib import Path\n",
    "\n",
    "# 1. Create models directory\n",
    "MODEL_PATH = Path(\"models\")\n",
    "MODEL_PATH.mkdir(parents=True, exist_ok=True)\n",
    "\n",
    "# 2. Create model save path\n",
    "MODEL_NAME = \"01_pytorch_workflow_model_2.pth\"\n",
    "MODEL_SAVE_PATH = MODEL_PATH / MODEL_NAME\n",
    "\n",
    "# 3. Save the model state dict\n",
    "print(f\"Model Saved to: {MODEL_SAVE_PATH}\")\n",
    "torch.save(obj=model_2.state_dict(), f=MODEL_SAVE_PATH)"
   ]
  },
  {
   "cell_type": "code",
   "execution_count": 29,
   "id": "eae41999-8874-4ae0-b441-0d59fd5c557e",
   "metadata": {},
   "outputs": [
    {
     "data": {
      "text/plain": [
       "OrderedDict([('linear_layer.weight', tensor([[0.3001]])),\n",
       "             ('linear_layer.bias', tensor([0.8953]))])"
      ]
     },
     "execution_count": 29,
     "metadata": {},
     "output_type": "execute_result"
    }
   ],
   "source": [
    "# Loading the model back\n",
    "\n",
    "loaded_model_2 = LinearRegressionModel_V3()\n",
    "loaded_model_2.load_state_dict(torch.load(f=MODEL_SAVE_PATH))\n",
    "\n",
    "loaded_model_2.state_dict()"
   ]
  },
  {
   "cell_type": "code",
   "execution_count": 32,
   "id": "60d65d27-b82c-410b-95fc-489cb6d41664",
   "metadata": {},
   "outputs": [
    {
     "data": {
      "text/plain": [
       "tensor([[1.3755],\n",
       "        [1.3815],\n",
       "        [1.3875],\n",
       "        [1.3935],\n",
       "        [1.3995],\n",
       "        [1.4055],\n",
       "        [1.4115],\n",
       "        [1.4175],\n",
       "        [1.4235],\n",
       "        [1.4295],\n",
       "        [1.4355],\n",
       "        [1.4415],\n",
       "        [1.4475],\n",
       "        [1.4535],\n",
       "        [1.4595],\n",
       "        [1.4655],\n",
       "        [1.4715],\n",
       "        [1.4775],\n",
       "        [1.4835],\n",
       "        [1.4895]])"
      ]
     },
     "execution_count": 32,
     "metadata": {},
     "output_type": "execute_result"
    }
   ],
   "source": [
    "loaded_model_2.eval()\n",
    "\n",
    "with torch.inference_mode():\n",
    "    loaded_model_2_preds = loaded_model_2(X_test)\n",
    "loaded_model_2_preds"
   ]
  },
  {
   "cell_type": "code",
   "execution_count": 33,
   "id": "b0a8b135-b66f-4b03-b31b-acec5d55ea5f",
   "metadata": {},
   "outputs": [
    {
     "data": {
      "image/png": "[encoded data removed]",
      "text/plain": [
       "<Figure size 1000x700 with 1 Axes>"
      ]
     },
     "metadata": {},
     "output_type": "display_data"
    }
   ],
   "source": [
    "plot_predictions(predictions=loaded_model_2_preds)"
   ]
  },
  {
   "cell_type": "code",
   "execution_count": null,
   "id": "79545444-f8a9-41e5-bf3b-508c1e1c64cd",
   "metadata": {},
   "outputs": [],
   "source": []
  }
 ],
 "metadata": {
  "kernelspec": {
   "display_name": "Python 3 (ipykernel)",
   "language": "python",
   "name": "python3"
  },
  "language_info": {
   "codemirror_mode": {
    "name": "ipython",
    "version": 3
   },
   "file_extension": ".py",
   "mimetype": "text/x-python",
   "name": "python",
   "nbconvert_exporter": "python",
   "pygments_lexer": "ipython3",
   "version": "3.12.5"
  }
 },
 "nbformat": 4,
 "nbformat_minor": 5
}
