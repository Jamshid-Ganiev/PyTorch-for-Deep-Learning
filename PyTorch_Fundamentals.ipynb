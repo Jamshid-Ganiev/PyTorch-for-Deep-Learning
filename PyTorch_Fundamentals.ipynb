{
 "cells": [
  {
   "cell_type": "code",
   "execution_count": 7,
   "id": "0121a144-c67a-4ab1-9d5d-266196477a4f",
   "metadata": {},
   "outputs": [],
   "source": [
    "import torch"
   ]
  },
  {
   "cell_type": "code",
   "execution_count": 8,
   "id": "256de7b0-e725-43c0-9c37-e4b66e69851f",
   "metadata": {},
   "outputs": [
    {
     "data": {
      "text/plain": [
       "tensor(7)"
      ]
     },
     "execution_count": 8,
     "metadata": {},
     "output_type": "execute_result"
    }
   ],
   "source": [
    "# scalar\n",
    "scalar = torch.tensor(7)\n",
    "scalar"
   ]
  },
  {
   "cell_type": "code",
   "execution_count": 9,
   "id": "300e86b7-93c8-46cc-a5bb-f0c146b8ee18",
   "metadata": {},
   "outputs": [
    {
     "data": {
      "text/plain": [
       "0"
      ]
     },
     "execution_count": 9,
     "metadata": {},
     "output_type": "execute_result"
    }
   ],
   "source": [
    "scalar.ndim"
   ]
  },
  {
   "cell_type": "code",
   "execution_count": 10,
   "id": "5fddb21f-9db6-43d8-bc19-3137ecb0f3dc",
   "metadata": {},
   "outputs": [
    {
     "data": {
      "text/plain": [
       "7"
      ]
     },
     "execution_count": 10,
     "metadata": {},
     "output_type": "execute_result"
    }
   ],
   "source": [
    "# get tensor back as python int\n",
    "scalar.item()"
   ]
  },
  {
   "cell_type": "code",
   "execution_count": 11,
   "id": "17dbd731-1eef-46e2-9458-e2cfb7a95c4f",
   "metadata": {},
   "outputs": [
    {
     "data": {
      "text/plain": [
       "tensor([7, 7])"
      ]
     },
     "execution_count": 11,
     "metadata": {},
     "output_type": "execute_result"
    }
   ],
   "source": [
    "# Vector\n",
    "vector = torch.tensor([7, 7])\n",
    "vector"
   ]
  },
  {
   "cell_type": "code",
   "execution_count": 12,
   "id": "fd1c0f3f-aae6-44e4-b950-b72db990be7b",
   "metadata": {},
   "outputs": [
    {
     "data": {
      "text/plain": [
       "1"
      ]
     },
     "execution_count": 12,
     "metadata": {},
     "output_type": "execute_result"
    }
   ],
   "source": [
    "vector.ndim"
   ]
  },
  {
   "cell_type": "code",
   "execution_count": 13,
   "id": "88056596-754b-453c-a501-3a02e5851101",
   "metadata": {},
   "outputs": [
    {
     "data": {
      "text/plain": [
       "torch.Size([2])"
      ]
     },
     "execution_count": 13,
     "metadata": {},
     "output_type": "execute_result"
    }
   ],
   "source": [
    "vector.shape"
   ]
  },
  {
   "cell_type": "code",
   "execution_count": 14,
   "id": "c5cc6b5b-b6c6-46de-b15a-fef269655b91",
   "metadata": {},
   "outputs": [
    {
     "data": {
      "text/plain": [
       "tensor([[ 7,  8],\n",
       "        [ 9, 10]])"
      ]
     },
     "execution_count": 14,
     "metadata": {},
     "output_type": "execute_result"
    }
   ],
   "source": [
    "# Matrix\n",
    "MATRIX = torch.tensor([[7, 8],\n",
    "                       [9, 10]])\n",
    "MATRIX"
   ]
  },
  {
   "cell_type": "code",
   "execution_count": 15,
   "id": "24375924-a143-483a-8191-4857bcddbd72",
   "metadata": {},
   "outputs": [
    {
     "data": {
      "text/plain": [
       "2"
      ]
     },
     "execution_count": 15,
     "metadata": {},
     "output_type": "execute_result"
    }
   ],
   "source": [
    "MATRIX.ndim"
   ]
  },
  {
   "cell_type": "code",
   "execution_count": 16,
   "id": "c2256526-3c06-4792-b42d-f3fb0817a021",
   "metadata": {},
   "outputs": [
    {
     "data": {
      "text/plain": [
       "torch.Size([2, 2])"
      ]
     },
     "execution_count": 16,
     "metadata": {},
     "output_type": "execute_result"
    }
   ],
   "source": [
    "MATRIX.shape"
   ]
  },
  {
   "cell_type": "code",
   "execution_count": 17,
   "id": "20024873-90cb-49cc-8af9-42de932846de",
   "metadata": {},
   "outputs": [
    {
     "data": {
      "text/plain": [
       "tensor([[[1, 2, 3],\n",
       "         [4, 5, 6],\n",
       "         [7, 8, 9]]])"
      ]
     },
     "execution_count": 17,
     "metadata": {},
     "output_type": "execute_result"
    }
   ],
   "source": [
    "# TENSOR\n",
    "TENSOR = torch.tensor([[[1, 2, 3],\n",
    "                        [4, 5, 6],\n",
    "                        [7, 8, 9]]])\n",
    "TENSOR"
   ]
  },
  {
   "cell_type": "code",
   "execution_count": 18,
   "id": "6a2269ad-279c-4e80-a0e7-bbdf54364ee5",
   "metadata": {},
   "outputs": [
    {
     "data": {
      "text/plain": [
       "3"
      ]
     },
     "execution_count": 18,
     "metadata": {},
     "output_type": "execute_result"
    }
   ],
   "source": [
    "TENSOR.ndim"
   ]
  },
  {
   "cell_type": "code",
   "execution_count": 19,
   "id": "d9920e68-058c-426b-bf55-f59da3081627",
   "metadata": {},
   "outputs": [
    {
     "data": {
      "text/plain": [
       "torch.Size([1, 3, 3])"
      ]
     },
     "execution_count": 19,
     "metadata": {},
     "output_type": "execute_result"
    }
   ],
   "source": [
    "TENSOR.shape"
   ]
  },
  {
   "cell_type": "code",
   "execution_count": 20,
   "id": "aa19b614-aa64-4c73-93a2-865eb62c946f",
   "metadata": {},
   "outputs": [
    {
     "data": {
      "text/plain": [
       "tensor([[1, 2, 3],\n",
       "        [4, 5, 6],\n",
       "        [7, 8, 9]])"
      ]
     },
     "execution_count": 20,
     "metadata": {},
     "output_type": "execute_result"
    }
   ],
   "source": [
    "TENSOR[0]"
   ]
  },
  {
   "cell_type": "markdown",
   "id": "35bbf220-86fc-4b36-a837-5c85fa8c7273",
   "metadata": {},
   "source": [
    "# Random tensors"
   ]
  },
  {
   "cell_type": "code",
   "execution_count": 21,
   "id": "df3f1b7d-fdd8-4952-9792-ff47c7057b96",
   "metadata": {},
   "outputs": [
    {
     "data": {
      "text/plain": [
       "tensor([[0.1074, 0.9661, 0.7646, 0.1345],\n",
       "        [0.7905, 0.7656, 0.7355, 0.0978],\n",
       "        [0.9389, 0.9028, 0.6646, 0.0236]])"
      ]
     },
     "execution_count": 21,
     "metadata": {},
     "output_type": "execute_result"
    }
   ],
   "source": [
    "# create a random sensor of size  ( 3, 4)\n",
    "random_tensor = torch.rand(3,4)\n",
    "random_tensor"
   ]
  },
  {
   "cell_type": "code",
   "execution_count": 31,
   "id": "8eb90d79-510c-4300-8d87-e3d002504760",
   "metadata": {},
   "outputs": [
    {
     "data": {
      "text/plain": [
       "(torch.Size([448, 448, 3]), 3)"
      ]
     },
     "execution_count": 31,
     "metadata": {},
     "output_type": "execute_result"
    }
   ],
   "source": [
    "# create a random tensor with similar shape to an image tensor\n",
    "random_image_size_tensor = torch.rand(size=(448, 448, 3)) # height. width, color channel (RGB) \n",
    "random_image_size_tensor.shape, random_image_size_tensor.ndim"
   ]
  },
  {
   "cell_type": "code",
   "execution_count": 32,
   "id": "9873922b-1134-48bf-9402-f5fa4fb01640",
   "metadata": {},
   "outputs": [],
   "source": [
    "import cv2"
   ]
  },
  {
   "cell_type": "code",
   "execution_count": 33,
   "id": "fbf70d73-4f4f-4738-8bbb-572fbaa521bd",
   "metadata": {},
   "outputs": [],
   "source": [
    "image = random_image_size_tensor.numpy()\n",
    "cv2.imshow('image window', image)\n",
    "# add wait key. window waits until user presses a key\n",
    "cv2.waitKey(0)\n",
    "# and finally destroy/close all open windows\n",
    "cv2.destroyAllWindows()"
   ]
  },
  {
   "cell_type": "code",
   "execution_count": 35,
   "id": "cbf0291a-5441-4d96-8337-651324dee266",
   "metadata": {},
   "outputs": [
    {
     "data": {
      "text/plain": [
       "torch.float32"
      ]
     },
     "execution_count": 35,
     "metadata": {},
     "output_type": "execute_result"
    }
   ],
   "source": [
    "random_image_size_tensor.dtype"
   ]
  },
  {
   "cell_type": "code",
   "execution_count": 42,
   "id": "060ee926-24c2-46f8-a542-47cdb340e4e1",
   "metadata": {},
   "outputs": [
    {
     "data": {
      "text/plain": [
       "tensor([ 1,  2,  3,  4,  5,  6,  7,  8,  9, 10])"
      ]
     },
     "execution_count": 42,
     "metadata": {},
     "output_type": "execute_result"
    }
   ],
   "source": [
    "# Torch Range\n",
    "torch.arange(1, 11)"
   ]
  },
  {
   "cell_type": "markdown",
   "id": "b4659178-f665-420c-86d9-f54d09b0df8d",
   "metadata": {},
   "source": [
    "## Tensor Datatypes\n",
    "Note: Tensor datatypes is one of the 3 big errors you'll run into with PyTorch & deep learning:\n",
    "1. Tensors not right datatype\n",
    "2. Tensors not right shape\n",
    "3. Tensors not on the right device"
   ]
  },
  {
   "cell_type": "code",
   "execution_count": 47,
   "id": "9768cf43-09a2-4164-96b7-57c76241b394",
   "metadata": {},
   "outputs": [
    {
     "data": {
      "text/plain": [
       "tensor([3., 6., 9.])"
      ]
     },
     "execution_count": 47,
     "metadata": {},
     "output_type": "execute_result"
    }
   ],
   "source": [
    "float_32_tensor = torch.tensor([3.0, 6.0, 9.0],\n",
    "                               dtype=None, # what datatype is the tensor\n",
    "                               device=None,\n",
    "                               requires_grad=False)\n",
    "float_32_tensor"
   ]
  },
  {
   "cell_type": "code",
   "execution_count": 48,
   "id": "4980b674-17a4-440a-8d4b-b8648c1d01ef",
   "metadata": {},
   "outputs": [
    {
     "data": {
      "text/plain": [
       "torch.float32"
      ]
     },
     "execution_count": 48,
     "metadata": {},
     "output_type": "execute_result"
    }
   ],
   "source": [
    "float_32_tensor.dtype"
   ]
  },
  {
   "cell_type": "code",
   "execution_count": 49,
   "id": "cc4ae783-fbd3-474a-a6c5-21e0e141b8ec",
   "metadata": {},
   "outputs": [
    {
     "data": {
      "text/plain": [
       "tensor([3., 6., 9.], dtype=torch.float16)"
      ]
     },
     "execution_count": 49,
     "metadata": {},
     "output_type": "execute_result"
    }
   ],
   "source": [
    "float_16_tensor = float_32_tensor.type(torch.float16)\n",
    "float_16_tensor"
   ]
  },
  {
   "cell_type": "code",
   "execution_count": 50,
   "id": "7a4b3708-3a78-4305-9d69-f4c70592f68a",
   "metadata": {},
   "outputs": [
    {
     "data": {
      "text/plain": [
       "tensor([ 9., 36., 81.])"
      ]
     },
     "execution_count": 50,
     "metadata": {},
     "output_type": "execute_result"
    }
   ],
   "source": [
    "float_32_tensor * float_16_tensor"
   ]
  },
  {
   "cell_type": "code",
   "execution_count": 51,
   "id": "c7c2aa1f-2a3b-4f21-a2c6-599781402656",
   "metadata": {},
   "outputs": [
    {
     "data": {
      "text/plain": [
       "tensor([[0.9556, 0.1531, 0.2602, 0.8092],\n",
       "        [0.8930, 0.9089, 0.4657, 0.0845],\n",
       "        [0.5513, 0.8569, 0.5537, 0.0289]])"
      ]
     },
     "execution_count": 51,
     "metadata": {},
     "output_type": "execute_result"
    }
   ],
   "source": [
    "# create a tensor\n",
    "some_tensor = torch.rand(3, 4)\n",
    "some_tensor"
   ]
  },
  {
   "cell_type": "code",
   "execution_count": 52,
   "id": "19cf5cab-4bc6-440b-ad88-e98214439bc3",
   "metadata": {},
   "outputs": [
    {
     "data": {
      "text/plain": [
       "tensor([[0.9556, 0.1531, 0.2602, 0.8092],\n",
       "        [0.8930, 0.9089, 0.4657, 0.0845],\n",
       "        [0.5513, 0.8569, 0.5537, 0.0289]])"
      ]
     },
     "execution_count": 52,
     "metadata": {},
     "output_type": "execute_result"
    }
   ],
   "source": [
    "# find out details about some tensor\n",
    "some_tensor"
   ]
  },
  {
   "cell_type": "code",
   "execution_count": 53,
   "id": "cba3afde-fcb5-4ad6-9196-e86a2114e170",
   "metadata": {},
   "outputs": [
    {
     "data": {
      "text/plain": [
       "torch.float32"
      ]
     },
     "execution_count": 53,
     "metadata": {},
     "output_type": "execute_result"
    }
   ],
   "source": [
    "some_tensor.dtype"
   ]
  },
  {
   "cell_type": "code",
   "execution_count": 54,
   "id": "d51c2046-7b2d-4fae-86c6-f68283c6fb6d",
   "metadata": {},
   "outputs": [
    {
     "data": {
      "text/plain": [
       "torch.Size([3, 4])"
      ]
     },
     "execution_count": 54,
     "metadata": {},
     "output_type": "execute_result"
    }
   ],
   "source": [
    "some_tensor.shape"
   ]
  },
  {
   "cell_type": "code",
   "execution_count": 55,
   "id": "6a95c908-9ce4-4049-8c7c-9376195e3928",
   "metadata": {},
   "outputs": [
    {
     "data": {
      "text/plain": [
       "device(type='cpu')"
      ]
     },
     "execution_count": 55,
     "metadata": {},
     "output_type": "execute_result"
    }
   ],
   "source": [
    "some_tensor.device"
   ]
  },
  {
   "cell_type": "markdown",
   "id": "0e2cf4b0-ec1f-4ccb-8cbf-026ca3bdf393",
   "metadata": {},
   "source": [
    "### Matrix multiplication\n",
    "### 2 main ways\n",
    " 1) Element-wise\n",
    " 2) Matrix mutiplication (dot product)\n"
   ]
  },
  {
   "cell_type": "code",
   "execution_count": 5,
   "id": "73f3c934-3b41-4c82-85f0-7317ac387790",
   "metadata": {},
   "outputs": [
    {
     "data": {
      "text/plain": [
       "tensor([[0.3436, 0.5993, 0.2849,  ..., 0.7932, 0.9298, 0.0403],\n",
       "        [0.9100, 0.8846, 0.2436,  ..., 0.5748, 0.9440, 0.2586],\n",
       "        [0.3601, 0.1968, 0.7553,  ..., 0.0840, 0.0820, 0.1423],\n",
       "        ...,\n",
       "        [0.7169, 0.3978, 0.4194,  ..., 0.1400, 0.6263, 0.0896],\n",
       "        [0.4781, 0.5595, 0.7772,  ..., 0.0189, 0.3178, 0.9328],\n",
       "        [0.2928, 0.0122, 0.4547,  ..., 0.3798, 0.9843, 0.9778]])"
      ]
     },
     "execution_count": 5,
     "metadata": {},
     "output_type": "execute_result"
    }
   ],
   "source": [
    "import torch\n",
    "\n",
    "# Element-wise\n",
    "tensor = torch.rand(128, 128)\n",
    "tensor"
   ]
  },
  {
   "cell_type": "code",
   "execution_count": 6,
   "id": "a8bf745e-d6aa-406d-b986-2c8896ab37f5",
   "metadata": {},
   "outputs": [
    {
     "data": {
      "text/plain": [
       "tensor([[1.1804e-01, 3.5920e-01, 8.1191e-02,  ..., 6.2915e-01, 8.6462e-01,\n",
       "         1.6240e-03],\n",
       "        [8.2819e-01, 7.8258e-01, 5.9347e-02,  ..., 3.3039e-01, 8.9120e-01,\n",
       "         6.6883e-02],\n",
       "        [1.2968e-01, 3.8731e-02, 5.7050e-01,  ..., 7.0561e-03, 6.7309e-03,\n",
       "         2.0262e-02],\n",
       "        ...,\n",
       "        [5.1396e-01, 1.5827e-01, 1.7589e-01,  ..., 1.9597e-02, 3.9220e-01,\n",
       "         8.0194e-03],\n",
       "        [2.2861e-01, 3.1301e-01, 6.0408e-01,  ..., 3.5831e-04, 1.0099e-01,\n",
       "         8.7004e-01],\n",
       "        [8.5747e-02, 1.4953e-04, 2.0675e-01,  ..., 1.4427e-01, 9.6880e-01,\n",
       "         9.5612e-01]])"
      ]
     },
     "execution_count": 6,
     "metadata": {},
     "output_type": "execute_result"
    }
   ],
   "source": [
    "tensor * tensor"
   ]
  },
  {
   "cell_type": "code",
   "execution_count": 7,
   "id": "22dac8b5-629a-4cad-b777-589e4af5f208",
   "metadata": {},
   "outputs": [
    {
     "data": {
      "text/plain": [
       "tensor([[33.4676, 32.4152, 31.8294,  ..., 31.7312, 34.6029, 33.4739],\n",
       "        [31.8206, 31.2945, 31.8782,  ..., 30.9338, 34.6718, 33.5638],\n",
       "        [31.8015, 30.1163, 32.2659,  ..., 33.2020, 34.9015, 33.9448],\n",
       "        ...,\n",
       "        [33.5360, 33.3367, 33.4309,  ..., 33.8530, 38.0825, 35.0913],\n",
       "        [29.5721, 29.9796, 29.2267,  ..., 31.3010, 31.8694, 33.1433],\n",
       "        [33.8143, 29.8673, 32.3483,  ..., 32.3277, 35.3931, 34.2305]])"
      ]
     },
     "execution_count": 7,
     "metadata": {},
     "output_type": "execute_result"
    }
   ],
   "source": [
    "# Matrix multiplication\n",
    "torch.matmul(tensor, tensor)"
   ]
  },
  {
   "cell_type": "code",
   "execution_count": 8,
   "id": "d560acb7-6af9-47ad-86e1-574fd74005d0",
   "metadata": {},
   "outputs": [
    {
     "name": "stdout",
     "output_type": "stream",
     "text": [
      "CPU times: total: 0 ns\n",
      "Wall time: 998 μs\n"
     ]
    },
    {
     "data": {
      "text/plain": [
       "tensor([[33.4676, 32.4152, 31.8294,  ..., 31.7312, 34.6029, 33.4739],\n",
       "        [31.8206, 31.2945, 31.8782,  ..., 30.9338, 34.6718, 33.5638],\n",
       "        [31.8015, 30.1163, 32.2659,  ..., 33.2020, 34.9015, 33.9448],\n",
       "        ...,\n",
       "        [33.5360, 33.3367, 33.4309,  ..., 33.8530, 38.0825, 35.0913],\n",
       "        [29.5721, 29.9796, 29.2267,  ..., 31.3010, 31.8694, 33.1433],\n",
       "        [33.8143, 29.8673, 32.3483,  ..., 32.3277, 35.3931, 34.2305]])"
      ]
     },
     "execution_count": 8,
     "metadata": {},
     "output_type": "execute_result"
    }
   ],
   "source": [
    "%%time\n",
    "tensor @ tensor"
   ]
  },
  {
   "cell_type": "markdown",
   "id": "8f4468e1-b781-4471-a6b6-0dd3e8edc2d2",
   "metadata": {},
   "source": [
    "# Tensor aggregation"
   ]
  },
  {
   "cell_type": "code",
   "execution_count": 12,
   "id": "d3be8b05-7e74-4714-a0a6-caeb0c68bb44",
   "metadata": {},
   "outputs": [
    {
     "data": {
      "text/plain": [
       "(tensor([ 0, 10, 20, 30, 40, 50, 60, 70, 80, 90]), torch.int64)"
      ]
     },
     "execution_count": 12,
     "metadata": {},
     "output_type": "execute_result"
    }
   ],
   "source": [
    "x = torch.arange(0, 100, 10)\n",
    "x, x.dtype"
   ]
  },
  {
   "cell_type": "code",
   "execution_count": 20,
   "id": "32d01b93-5c35-4458-8d49-e423660f8ed1",
   "metadata": {},
   "outputs": [
    {
     "data": {
      "text/plain": [
       "(tensor(0.), tensor(0.))"
      ]
     },
     "execution_count": 20,
     "metadata": {},
     "output_type": "execute_result"
    }
   ],
   "source": [
    "# find the min\n",
    "torch.min(x), x.min()"
   ]
  },
  {
   "cell_type": "code",
   "execution_count": 21,
   "id": "b51e34b2-f00c-4b56-8a80-ffc1040d4425",
   "metadata": {},
   "outputs": [
    {
     "data": {
      "text/plain": [
       "(tensor(90.), tensor(90.))"
      ]
     },
     "execution_count": 21,
     "metadata": {},
     "output_type": "execute_result"
    }
   ],
   "source": [
    "# find the max\n",
    "torch.max(x), x.max()"
   ]
  },
  {
   "cell_type": "code",
   "execution_count": 22,
   "id": "0f761f98-ddbc-4847-88fe-c4007d71d35e",
   "metadata": {},
   "outputs": [
    {
     "data": {
      "text/plain": [
       "(tensor(45.), tensor(45.))"
      ]
     },
     "execution_count": 22,
     "metadata": {},
     "output_type": "execute_result"
    }
   ],
   "source": [
    "# find the mean\n",
    "x = x.type(torch.float32)\n",
    "\n",
    "torch.mean(x), x.mean()"
   ]
  },
  {
   "cell_type": "markdown",
   "id": "1566b1e3-ede9-4fc7-bd79-c16a44d9c9b3",
   "metadata": {},
   "source": [
    "# Reshaping, Stacking, Squeezing, Unsqueezing"
   ]
  },
  {
   "cell_type": "code",
   "execution_count": 23,
   "id": "09cafadf-02fa-49bf-a9ca-f8fcb63c49ee",
   "metadata": {},
   "outputs": [
    {
     "data": {
      "text/plain": [
       "(tensor([1., 2., 3., 4., 5., 6., 7., 8., 9.]), torch.Size([9]))"
      ]
     },
     "execution_count": 23,
     "metadata": {},
     "output_type": "execute_result"
    }
   ],
   "source": [
    "import torch\n",
    "X = torch.arange(1., 10.)\n",
    "X, X.shape"
   ]
  },
  {
   "cell_type": "code",
   "execution_count": 42,
   "id": "d1652da3-6e65-445f-9014-8901bfbb847d",
   "metadata": {},
   "outputs": [
    {
     "data": {
      "text/plain": [
       "(tensor([[5., 2., 3., 4., 5., 6., 7., 8., 9.]]), torch.Size([1, 9]))"
      ]
     },
     "execution_count": 42,
     "metadata": {},
     "output_type": "execute_result"
    }
   ],
   "source": [
    "# Add an extra dimension\n",
    "X_reshaped = X.reshape(1,9)\n",
    "X_reshaped, X_reshaped.shape"
   ]
  },
  {
   "cell_type": "code",
   "execution_count": 28,
   "id": "f2c0843e-86ad-4eec-a129-e27b50f57d2f",
   "metadata": {},
   "outputs": [
    {
     "data": {
      "text/plain": [
       "(tensor([[1., 2., 3., 4., 5., 6., 7., 8., 9.]]), torch.Size([1, 9]))"
      ]
     },
     "execution_count": 28,
     "metadata": {},
     "output_type": "execute_result"
    }
   ],
   "source": [
    "# Change the view\n",
    "z = X.view(1, 9)\n",
    "z, z.shape"
   ]
  },
  {
   "cell_type": "code",
   "execution_count": 30,
   "id": "f5bf1ee4-5465-434a-8604-ef7e1709f890",
   "metadata": {},
   "outputs": [
    {
     "data": {
      "text/plain": [
       "(tensor([[5., 2., 3., 4., 5., 6., 7., 8., 9.]]),\n",
       " tensor([5., 2., 3., 4., 5., 6., 7., 8., 9.]))"
      ]
     },
     "execution_count": 30,
     "metadata": {},
     "output_type": "execute_result"
    }
   ],
   "source": [
    "# Changin z changes x\n",
    "z[:, 0] = 5\n",
    "z, X"
   ]
  },
  {
   "cell_type": "code",
   "execution_count": 35,
   "id": "b23b15e4-927a-442e-a08f-0a9365a20fd8",
   "metadata": {},
   "outputs": [
    {
     "data": {
      "text/plain": [
       "tensor([[5., 2., 3., 4., 5., 6., 7., 8., 9.],\n",
       "        [5., 2., 3., 4., 5., 6., 7., 8., 9.],\n",
       "        [5., 2., 3., 4., 5., 6., 7., 8., 9.],\n",
       "        [5., 2., 3., 4., 5., 6., 7., 8., 9.]])"
      ]
     },
     "execution_count": 35,
     "metadata": {},
     "output_type": "execute_result"
    }
   ],
   "source": [
    "# Stack tensors on top of each other\n",
    "X_stacked = torch.stack([X, X, X, X], dim=0)\n",
    "X_stacked"
   ]
  },
  {
   "cell_type": "code",
   "execution_count": 46,
   "id": "ccee28e7-5711-4b42-a937-3475863af12e",
   "metadata": {},
   "outputs": [
    {
     "data": {
      "text/plain": [
       "tensor([[5., 2., 3., 4., 5., 6., 7., 8., 9.]])"
      ]
     },
     "execution_count": 46,
     "metadata": {},
     "output_type": "execute_result"
    }
   ],
   "source": [
    "# torch.squeeze() ---> removes all single dimensions from a target tensor\n",
    "X_reshaped"
   ]
  },
  {
   "cell_type": "code",
   "execution_count": 47,
   "id": "9ac49f19-5c02-4576-8243-3d3a30a187c2",
   "metadata": {},
   "outputs": [
    {
     "data": {
      "text/plain": [
       "torch.Size([1, 9])"
      ]
     },
     "execution_count": 47,
     "metadata": {},
     "output_type": "execute_result"
    }
   ],
   "source": [
    "X_reshaped.shape"
   ]
  },
  {
   "cell_type": "code",
   "execution_count": 49,
   "id": "ad4e1b2d-f8c0-48f6-9b47-ec407f928c37",
   "metadata": {},
   "outputs": [
    {
     "data": {
      "text/plain": [
       "tensor([5., 2., 3., 4., 5., 6., 7., 8., 9.])"
      ]
     },
     "execution_count": 49,
     "metadata": {},
     "output_type": "execute_result"
    }
   ],
   "source": [
    "X_squeezed = X_reshaped.squeeze()\n",
    "X_squeezed"
   ]
  },
  {
   "cell_type": "code",
   "execution_count": 50,
   "id": "18afb4ce-b483-455c-9178-df0a8d183cf1",
   "metadata": {},
   "outputs": [
    {
     "data": {
      "text/plain": [
       "torch.Size([9])"
      ]
     },
     "execution_count": 50,
     "metadata": {},
     "output_type": "execute_result"
    }
   ],
   "source": [
    "X_squeezed.shape"
   ]
  },
  {
   "cell_type": "code",
   "execution_count": 51,
   "id": "af60fec2-7f87-4e5c-9b5b-5b643c9c5b16",
   "metadata": {},
   "outputs": [
    {
     "data": {
      "text/plain": [
       "tensor([5., 2., 3., 4., 5., 6., 7., 8., 9.])"
      ]
     },
     "execution_count": 51,
     "metadata": {},
     "output_type": "execute_result"
    }
   ],
   "source": [
    "# torch.unsqueeze() - adds a single dimension to a target tensor at a specific dim (dimension)\n",
    "X_squeezed"
   ]
  },
  {
   "cell_type": "code",
   "execution_count": 57,
   "id": "d67429a8-f2e4-4eae-88f5-14a6f9002193",
   "metadata": {},
   "outputs": [
    {
     "data": {
      "text/plain": [
       "tensor([[5., 2., 3., 4., 5., 6., 7., 8., 9.]])"
      ]
     },
     "execution_count": 57,
     "metadata": {},
     "output_type": "execute_result"
    }
   ],
   "source": [
    "X_unsqueezed = X_squeezed.unsqueeze(dim=0)\n",
    "X_unsqueezed"
   ]
  },
  {
   "cell_type": "code",
   "execution_count": 58,
   "id": "e7ebb110-d078-48c6-9cfb-2648c3f3b5dd",
   "metadata": {},
   "outputs": [
    {
     "data": {
      "text/plain": [
       "torch.Size([1, 9])"
      ]
     },
     "execution_count": 58,
     "metadata": {},
     "output_type": "execute_result"
    }
   ],
   "source": [
    "X_unsqueezed.shape"
   ]
  },
  {
   "cell_type": "code",
   "execution_count": 59,
   "id": "8c018ba5-f51c-4e1a-bdf8-26f9791a08cf",
   "metadata": {},
   "outputs": [
    {
     "data": {
      "text/plain": [
       "tensor([[5.],\n",
       "        [2.],\n",
       "        [3.],\n",
       "        [4.],\n",
       "        [5.],\n",
       "        [6.],\n",
       "        [7.],\n",
       "        [8.],\n",
       "        [9.]])"
      ]
     },
     "execution_count": 59,
     "metadata": {},
     "output_type": "execute_result"
    }
   ],
   "source": [
    "X_unsqueezed = X_squeezed.unsqueeze(dim=1)\n",
    "X_unsqueezed"
   ]
  },
  {
   "cell_type": "code",
   "execution_count": 60,
   "id": "11a03f66-c85f-46b0-a520-d697d289dcb2",
   "metadata": {},
   "outputs": [
    {
     "data": {
      "text/plain": [
       "torch.Size([9, 1])"
      ]
     },
     "execution_count": 60,
     "metadata": {},
     "output_type": "execute_result"
    }
   ],
   "source": [
    "X_unsqueezed.shape"
   ]
  },
  {
   "cell_type": "code",
   "execution_count": 65,
   "id": "cbea0e4d-6e6a-4fac-bfdb-3709bcfa0ecf",
   "metadata": {},
   "outputs": [
    {
     "name": "stdout",
     "output_type": "stream",
     "text": [
      "x_original shape: torch.Size([224, 224, 3])\n",
      "x_permuted shape: torch.Size([3, 224, 224])\n"
     ]
    }
   ],
   "source": [
    "# torch.permute - rearranges the dimensions of a target tensor in a specified order\n",
    "x_original = torch.rand(size=(224, 224, 3)) # height, width, color_channels\n",
    "print(f\"x_original shape: {x_original.shape}\")\n",
    "\n",
    "# Permute\n",
    "x_permuted = x_original.permute(2, 0, 1) # shifts axis 0-->1, 1-->2, 2-->0\n",
    "print(f\"x_permuted shape: {x_permuted.shape}\")"
   ]
  },
  {
   "cell_type": "code",
   "execution_count": 66,
   "id": "c2741c0f-f0c0-47e0-98ff-de2451e25fc1",
   "metadata": {},
   "outputs": [
    {
     "data": {
      "text/plain": [
       "(tensor(1234.), tensor(1234.))"
      ]
     },
     "execution_count": 66,
     "metadata": {},
     "output_type": "execute_result"
    }
   ],
   "source": [
    "x_original[0,0,0] = 1234\n",
    "x_original[0,0,0], x_permuted[0,0,0]"
   ]
  },
  {
   "cell_type": "markdown",
   "id": "f584768d-0cb8-4386-9623-847bc723c3d6",
   "metadata": {},
   "source": [
    "# Indexing (Selecting data from tensors)"
   ]
  },
  {
   "cell_type": "code",
   "execution_count": 68,
   "id": "83db405f-c807-41cc-8708-d36f0f0023f5",
   "metadata": {},
   "outputs": [
    {
     "data": {
      "text/plain": [
       "(tensor([[[1, 2, 3],\n",
       "          [4, 5, 6],\n",
       "          [7, 8, 9]]]),\n",
       " torch.Size([1, 3, 3]))"
      ]
     },
     "execution_count": 68,
     "metadata": {},
     "output_type": "execute_result"
    }
   ],
   "source": [
    "import torch\n",
    "x = torch.arange(1, 10).reshape(1, 3, 3)\n",
    "x, x.shape"
   ]
  },
  {
   "cell_type": "code",
   "execution_count": 80,
   "id": "04a8f9a3-d87f-4190-b55f-bf5037767d79",
   "metadata": {},
   "outputs": [
    {
     "data": {
      "text/plain": [
       "tensor([[3, 6, 9]])"
      ]
     },
     "execution_count": 80,
     "metadata": {},
     "output_type": "execute_result"
    }
   ],
   "source": [
    "x[:,:, 2]"
   ]
  },
  {
   "cell_type": "markdown",
   "id": "a08def7b-dc2c-4c1f-8cc4-cd4fa9a3c85f",
   "metadata": {},
   "source": [
    "# PyTorch tensors & NumPy"
   ]
  },
  {
   "cell_type": "code",
   "execution_count": 81,
   "id": "03a550e0-3619-4c25-b41d-7fc6be54d3b6",
   "metadata": {},
   "outputs": [
    {
     "data": {
      "text/plain": [
       "(tensor([1., 1., 1., 1., 1., 1., 1.]),\n",
       " array([1., 1., 1., 1., 1., 1., 1.], dtype=float32))"
      ]
     },
     "execution_count": 81,
     "metadata": {},
     "output_type": "execute_result"
    }
   ],
   "source": [
    "# Tensor to NumPy\n",
    "tensor = torch = torch.ones(7)\n",
    "numpy_tensor = tensor.numpy()\n",
    "tensor, numpy_tensor"
   ]
  },
  {
   "cell_type": "code",
   "execution_count": 82,
   "id": "c5b8540e-6ff0-43e9-9898-6ff9a94205b5",
   "metadata": {},
   "outputs": [
    {
     "data": {
      "text/plain": [
       "(tensor([2., 2., 2., 2., 2., 2., 2.]),\n",
       " array([1., 1., 1., 1., 1., 1., 1.], dtype=float32))"
      ]
     },
     "execution_count": 82,
     "metadata": {},
     "output_type": "execute_result"
    }
   ],
   "source": [
    "# Change the tensor, what happens to 'numpy_tensor'?\n",
    "tensor = tensor + 1\n",
    "tensor, numpy_tensor"
   ]
  },
  {
   "cell_type": "code",
   "execution_count": 86,
   "id": "d76f45d4-f768-4952-a4f4-e93842eb2cf1",
   "metadata": {},
   "outputs": [
    {
     "data": {
      "text/plain": [
       "(array([1., 1., 1., 1., 1., 1., 1., 1., 1., 1.]),\n",
       " tensor([1., 1., 1., 1., 1., 1., 1., 1., 1., 1.], dtype=torch.float64))"
      ]
     },
     "execution_count": 86,
     "metadata": {},
     "output_type": "execute_result"
    }
   ],
   "source": [
    "import numpy as np\n",
    "import torch\n",
    "array = np.ones(10)\n",
    "tensor = torch.from_numpy(array)\n",
    "array, tensor"
   ]
  },
  {
   "cell_type": "code",
   "execution_count": 88,
   "id": "cd9dbe43-d121-469c-8723-362bbcfb5106",
   "metadata": {},
   "outputs": [
    {
     "data": {
      "text/plain": [
       "1"
      ]
     },
     "execution_count": 88,
     "metadata": {},
     "output_type": "execute_result"
    }
   ],
   "source": [
    "torch.cuda.device_count()"
   ]
  },
  {
   "cell_type": "code",
   "execution_count": null,
   "id": "3baa2305-6543-4060-a0c0-3deb107ced6b",
   "metadata": {},
   "outputs": [],
   "source": []
  },
  {
   "cell_type": "markdown",
   "id": "5f2c9ce8-2460-4df7-9e7e-a89e4fcb4467",
   "metadata": {},
   "source": [
    "# Exercises"
   ]
  },
  {
   "cell_type": "code",
   "execution_count": 93,
   "id": "4d68ba38-e473-4447-a611-38b89ee2dc16",
   "metadata": {},
   "outputs": [
    {
     "data": {
      "text/plain": [
       "tensor([[0.4045, 0.3582, 0.0576, 0.1959, 0.7658, 0.0705, 0.8319],\n",
       "        [0.5488, 0.3972, 0.9785, 0.6996, 0.6964, 0.5233, 0.9496],\n",
       "        [0.3294, 0.0544, 0.9630, 0.0460, 0.1122, 0.2327, 0.1112],\n",
       "        [0.0930, 0.7774, 0.8481, 0.6085, 0.6027, 0.9461, 0.1521],\n",
       "        [0.1086, 0.3052, 0.8233, 0.3640, 0.1571, 0.2769, 0.2250],\n",
       "        [0.1306, 0.3625, 0.7324, 0.6653, 0.6755, 0.5623, 0.3409],\n",
       "        [0.9467, 0.8849, 0.2476, 0.2160, 0.3667, 0.5850, 0.6880]])"
      ]
     },
     "execution_count": 93,
     "metadata": {},
     "output_type": "execute_result"
    }
   ],
   "source": [
    "# 2)\n",
    "import torch\n",
    "tensor = torch.rand(7,7)\n",
    "tensor"
   ]
  },
  {
   "cell_type": "code",
   "execution_count": 94,
   "id": "183d1898-356e-4d7c-bc53-39f3ed2ce7e2",
   "metadata": {},
   "outputs": [
    {
     "data": {
      "text/plain": [
       "tensor([[0.2991, 0.0276, 0.2080, 0.8745, 0.0343, 0.7843, 0.5722]])"
      ]
     },
     "execution_count": 94,
     "metadata": {},
     "output_type": "execute_result"
    }
   ],
   "source": [
    "tensor2 = torch.rand(1,7)\n",
    "tensor2"
   ]
  },
  {
   "cell_type": "code",
   "execution_count": 110,
   "id": "1cdc9f2f-e200-4245-a749-f2b87bf0fc2e",
   "metadata": {},
   "outputs": [
    {
     "data": {
      "text/plain": [
       "tensor([[1.5985],\n",
       "        [1.1173],\n",
       "        [1.2741],\n",
       "        [1.6838],\n",
       "        [0.8279],\n",
       "        [1.0347],\n",
       "        [1.2498]])"
      ]
     },
     "execution_count": 110,
     "metadata": {},
     "output_type": "execute_result"
    }
   ],
   "source": [
    "# 3)\n",
    "tensor @ tensor2.T"
   ]
  },
  {
   "cell_type": "code",
   "execution_count": 111,
   "id": "fe6a4b14-7431-41c9-8379-abfe44378c48",
   "metadata": {},
   "outputs": [
    {
     "data": {
      "text/plain": [
       "tensor([[0.4963, 0.7682, 0.0885, 0.1320, 0.3074, 0.6341, 0.4901],\n",
       "        [0.8964, 0.4556, 0.6323, 0.3489, 0.4017, 0.0223, 0.1689],\n",
       "        [0.2939, 0.5185, 0.6977, 0.8000, 0.1610, 0.2823, 0.6816],\n",
       "        [0.9152, 0.3971, 0.8742, 0.4194, 0.5529, 0.9527, 0.0362],\n",
       "        [0.1852, 0.3734, 0.3051, 0.9320, 0.1759, 0.2698, 0.1507],\n",
       "        [0.0317, 0.2081, 0.9298, 0.7231, 0.7423, 0.5263, 0.2437],\n",
       "        [0.5846, 0.0332, 0.1387, 0.2422, 0.8155, 0.7932, 0.2783]])"
      ]
     },
     "execution_count": 111,
     "metadata": {},
     "output_type": "execute_result"
    }
   ],
   "source": [
    "# 4) Reproducibility\n",
    "import torch\n",
    "torch.manual_seed(0)\n",
    "tensor = torch.rand(7,7)\n",
    "tensor"
   ]
  },
  {
   "cell_type": "code",
   "execution_count": 112,
   "id": "6f61aa03-25cf-4b3e-89f0-e1ca1cbb10e2",
   "metadata": {},
   "outputs": [
    {
     "data": {
      "text/plain": [
       "tensor([[0.4963, 0.7682, 0.0885, 0.1320, 0.3074, 0.6341, 0.4901]])"
      ]
     },
     "execution_count": 112,
     "metadata": {},
     "output_type": "execute_result"
    }
   ],
   "source": [
    "torch.manual_seed(0)\n",
    "tensor2 = torch.rand(1,7)\n",
    "tensor2"
   ]
  },
  {
   "cell_type": "code",
   "execution_count": 113,
   "id": "26982b35-47b1-4647-9665-66527739cf81",
   "metadata": {},
   "outputs": [
    {
     "data": {
      "text/plain": [
       "tensor([[1.5985],\n",
       "        [1.1173],\n",
       "        [1.2741],\n",
       "        [1.6838],\n",
       "        [0.8279],\n",
       "        [1.0347],\n",
       "        [1.2498]])"
      ]
     },
     "execution_count": 113,
     "metadata": {},
     "output_type": "execute_result"
    }
   ],
   "source": [
    "tensor @ tensor2.T"
   ]
  },
  {
   "cell_type": "code",
   "execution_count": 122,
   "id": "d50dbf31-3dc8-484b-9825-e0952b9a5ee0",
   "metadata": {},
   "outputs": [],
   "source": [
    "# 5) GPU\n",
    "torch.manual_seed(1234)\n",
    "tenso1 = torch.rand(2, 3)\n",
    "\n",
    "torch.manual_seed(1234)\n",
    "tenso2 = torch.rand(2, 3)"
   ]
  },
  {
   "cell_type": "code",
   "execution_count": 128,
   "id": "6c8652ae-6925-4a2c-b77e-f261281c93d7",
   "metadata": {},
   "outputs": [
    {
     "data": {
      "text/plain": [
       "tensor([[0.0290, 0.4019, 0.2598],\n",
       "        [0.3666, 0.0583, 0.7006]])"
      ]
     },
     "execution_count": 128,
     "metadata": {},
     "output_type": "execute_result"
    }
   ],
   "source": [
    "tenso1"
   ]
  },
  {
   "cell_type": "code",
   "execution_count": 126,
   "id": "05b4716b-7628-45bc-b838-1171978b6cc3",
   "metadata": {},
   "outputs": [],
   "source": [
    "gpu_tenso1 = tenso1.to('cuda')"
   ]
  },
  {
   "cell_type": "code",
   "execution_count": 127,
   "id": "ea2798f5-4c17-4881-b9cb-ec2bbf7a9c55",
   "metadata": {},
   "outputs": [
    {
     "data": {
      "text/plain": [
       "tensor([[0.0290, 0.4019, 0.2598],\n",
       "        [0.3666, 0.0583, 0.7006]], device='cuda:0')"
      ]
     },
     "execution_count": 127,
     "metadata": {},
     "output_type": "execute_result"
    }
   ],
   "source": [
    "gpu_tenso1"
   ]
  },
  {
   "cell_type": "code",
   "execution_count": 129,
   "id": "d56ced97-88a2-41d2-808b-74bfa188550e",
   "metadata": {},
   "outputs": [
    {
     "data": {
      "text/plain": [
       "tensor([[0.0290, 0.4019, 0.2598],\n",
       "        [0.3666, 0.0583, 0.7006]], device='cuda:0')"
      ]
     },
     "execution_count": 129,
     "metadata": {},
     "output_type": "execute_result"
    }
   ],
   "source": [
    "gpu_tenso2 = tenso2.to('cuda')\n",
    "gpu_tenso2"
   ]
  },
  {
   "cell_type": "code",
   "execution_count": 130,
   "id": "7d79dc3d-e432-4d07-9cc2-3fd16dd89ec9",
   "metadata": {},
   "outputs": [
    {
     "data": {
      "text/plain": [
       "(torch.Size([2, 3]), torch.Size([2, 3]))"
      ]
     },
     "execution_count": 130,
     "metadata": {},
     "output_type": "execute_result"
    }
   ],
   "source": [
    "gpu_tenso1.shape, gpu_tenso2.shape"
   ]
  },
  {
   "cell_type": "code",
   "execution_count": 133,
   "id": "fe56ba06-5b68-4c74-927e-3791b1342026",
   "metadata": {},
   "outputs": [
    {
     "data": {
      "text/plain": [
       "tensor([[0.2299, 0.2161],\n",
       "        [0.2161, 0.6287]], device='cuda:0')"
      ]
     },
     "execution_count": 133,
     "metadata": {},
     "output_type": "execute_result"
    }
   ],
   "source": [
    "mm = gpu_tenso1 @ gpu_tenso2.T\n",
    "mm"
   ]
  },
  {
   "cell_type": "code",
   "execution_count": 134,
   "id": "0bac5ede-7ddc-4fd4-bf61-eea61472eb2b",
   "metadata": {},
   "outputs": [
    {
     "data": {
      "text/plain": [
       "tensor(0.2161, device='cuda:0')"
      ]
     },
     "execution_count": 134,
     "metadata": {},
     "output_type": "execute_result"
    }
   ],
   "source": [
    "mm.min()"
   ]
  },
  {
   "cell_type": "code",
   "execution_count": 135,
   "id": "9e2134be-41ae-484b-a6d6-59f827cf2185",
   "metadata": {},
   "outputs": [
    {
     "data": {
      "text/plain": [
       "tensor(0.6287, device='cuda:0')"
      ]
     },
     "execution_count": 135,
     "metadata": {},
     "output_type": "execute_result"
    }
   ],
   "source": [
    "mm.max()"
   ]
  },
  {
   "cell_type": "code",
   "execution_count": 136,
   "id": "13bcbca1-7654-4b61-9f5f-10039e67b139",
   "metadata": {},
   "outputs": [
    {
     "data": {
      "text/plain": [
       "tensor(0.3227, device='cuda:0')"
      ]
     },
     "execution_count": 136,
     "metadata": {},
     "output_type": "execute_result"
    }
   ],
   "source": [
    "mm.mean()"
   ]
  },
  {
   "cell_type": "code",
   "execution_count": 137,
   "id": "f7269a27-c8d7-46ac-b464-e4f84d6209f9",
   "metadata": {},
   "outputs": [
    {
     "data": {
      "text/plain": [
       "tensor(3, device='cuda:0')"
      ]
     },
     "execution_count": 137,
     "metadata": {},
     "output_type": "execute_result"
    }
   ],
   "source": [
    "mm.argmax()"
   ]
  },
  {
   "cell_type": "code",
   "execution_count": 138,
   "id": "5e463517-8c92-43ce-b9b3-82c8ec2deff4",
   "metadata": {},
   "outputs": [
    {
     "data": {
      "text/plain": [
       "tensor(1, device='cuda:0')"
      ]
     },
     "execution_count": 138,
     "metadata": {},
     "output_type": "execute_result"
    }
   ],
   "source": [
    "mm.argmin()"
   ]
  },
  {
   "cell_type": "code",
   "execution_count": 150,
   "id": "7d8882e7-82e1-49d8-9e4a-2b93f63419b5",
   "metadata": {},
   "outputs": [
    {
     "data": {
      "text/plain": [
       "(tensor([[[[[0.5349, 0.1988, 0.6592, 0.6569, 0.2328, 0.4251, 0.2071, 0.6297,\n",
       "             0.3653, 0.8513]]]]]),\n",
       " torch.Size([1, 1, 1, 1, 10]))"
      ]
     },
     "execution_count": 150,
     "metadata": {},
     "output_type": "execute_result"
    }
   ],
   "source": [
    "torch.manual_seed(7)\n",
    "random_tensor = torch.rand(1, 1, 1, 1, 10)\n",
    "random_tensor, random_tensor.shape"
   ]
  },
  {
   "cell_type": "code",
   "execution_count": 152,
   "id": "5bce25df-5c21-469d-913c-9bd82a0aa2cc",
   "metadata": {},
   "outputs": [
    {
     "data": {
      "text/plain": [
       "(tensor([0.5349, 0.1988, 0.6592, 0.6569, 0.2328, 0.4251, 0.2071, 0.6297, 0.3653,\n",
       "         0.8513]),\n",
       " torch.Size([10]))"
      ]
     },
     "execution_count": 152,
     "metadata": {},
     "output_type": "execute_result"
    }
   ],
   "source": [
    "squeezed_tenso = random_tensor.squeeze()\n",
    "squeezed_tenso, squeezed_tenso.shape"
   ]
  },
  {
   "cell_type": "code",
   "execution_count": null,
   "id": "f4a7be0e-9275-49e1-831e-acef4117b7ec",
   "metadata": {},
   "outputs": [],
   "source": []
  }
 ],
 "metadata": {
  "kernelspec": {
   "display_name": "Python 3 (ipykernel)",
   "language": "python",
   "name": "python3"
  },
  "language_info": {
   "codemirror_mode": {
    "name": "ipython",
    "version": 3
   },
   "file_extension": ".py",
   "mimetype": "text/x-python",
   "name": "python",
   "nbconvert_exporter": "python",
   "pygments_lexer": "ipython3",
   "version": "3.12.5"
  }
 },
 "nbformat": 4,
 "nbformat_minor": 5
}
